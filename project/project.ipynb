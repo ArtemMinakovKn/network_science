{
  "cells": [
    {
      "cell_type": "markdown",
      "id": "c62bc32e",
      "metadata": {
        "id": "c62bc32e"
      },
      "source": [
        "# The role of Reddit users in financial market dynamics"
      ]
    },
    {
      "cell_type": "code",
      "source": [
        "! pip install yfinance"
      ],
      "metadata": {
        "colab": {
          "base_uri": "https://localhost:8080/"
        },
        "id": "ynoXJ11ntBQe",
        "outputId": "7f33eeaa-cad8-4708-c45c-e34eb2a7b505"
      },
      "id": "ynoXJ11ntBQe",
      "execution_count": null,
      "outputs": [
        {
          "output_type": "stream",
          "name": "stdout",
          "text": [
            "Requirement already satisfied: yfinance in /usr/local/lib/python3.10/dist-packages (0.2.28)\n",
            "Requirement already satisfied: pandas>=1.3.0 in /usr/local/lib/python3.10/dist-packages (from yfinance) (1.5.3)\n",
            "Requirement already satisfied: numpy>=1.16.5 in /usr/local/lib/python3.10/dist-packages (from yfinance) (1.23.5)\n",
            "Requirement already satisfied: requests>=2.31 in /usr/local/lib/python3.10/dist-packages (from yfinance) (2.31.0)\n",
            "Requirement already satisfied: multitasking>=0.0.7 in /usr/local/lib/python3.10/dist-packages (from yfinance) (0.0.11)\n",
            "Requirement already satisfied: lxml>=4.9.1 in /usr/local/lib/python3.10/dist-packages (from yfinance) (4.9.3)\n",
            "Requirement already satisfied: appdirs>=1.4.4 in /usr/local/lib/python3.10/dist-packages (from yfinance) (1.4.4)\n",
            "Requirement already satisfied: pytz>=2022.5 in /usr/local/lib/python3.10/dist-packages (from yfinance) (2023.3)\n",
            "Requirement already satisfied: frozendict>=2.3.4 in /usr/local/lib/python3.10/dist-packages (from yfinance) (2.3.8)\n",
            "Requirement already satisfied: beautifulsoup4>=4.11.1 in /usr/local/lib/python3.10/dist-packages (from yfinance) (4.11.2)\n",
            "Requirement already satisfied: html5lib>=1.1 in /usr/local/lib/python3.10/dist-packages (from yfinance) (1.1)\n",
            "Requirement already satisfied: soupsieve>1.2 in /usr/local/lib/python3.10/dist-packages (from beautifulsoup4>=4.11.1->yfinance) (2.4.1)\n",
            "Requirement already satisfied: six>=1.9 in /usr/local/lib/python3.10/dist-packages (from html5lib>=1.1->yfinance) (1.16.0)\n",
            "Requirement already satisfied: webencodings in /usr/local/lib/python3.10/dist-packages (from html5lib>=1.1->yfinance) (0.5.1)\n",
            "Requirement already satisfied: python-dateutil>=2.8.1 in /usr/local/lib/python3.10/dist-packages (from pandas>=1.3.0->yfinance) (2.8.2)\n",
            "Requirement already satisfied: charset-normalizer<4,>=2 in /usr/local/lib/python3.10/dist-packages (from requests>=2.31->yfinance) (3.2.0)\n",
            "Requirement already satisfied: idna<4,>=2.5 in /usr/local/lib/python3.10/dist-packages (from requests>=2.31->yfinance) (3.4)\n",
            "Requirement already satisfied: urllib3<3,>=1.21.1 in /usr/local/lib/python3.10/dist-packages (from requests>=2.31->yfinance) (2.0.4)\n",
            "Requirement already satisfied: certifi>=2017.4.17 in /usr/local/lib/python3.10/dist-packages (from requests>=2.31->yfinance) (2023.7.22)\n"
          ]
        }
      ]
    },
    {
      "cell_type": "code",
      "source": [
        "! pip install pyvis"
      ],
      "metadata": {
        "colab": {
          "base_uri": "https://localhost:8080/"
        },
        "id": "Dzr2Sp6v_QDE",
        "outputId": "c3fc5f37-9ebb-443f-f705-fdbdf76b5f92"
      },
      "id": "Dzr2Sp6v_QDE",
      "execution_count": null,
      "outputs": [
        {
          "output_type": "stream",
          "name": "stdout",
          "text": [
            "Collecting pyvis\n",
            "  Downloading pyvis-0.3.2-py3-none-any.whl (756 kB)\n",
            "\u001b[2K     \u001b[90m━━━━━━━━━━━━━━━━━━━━━━━━━━━━━━━━━━━━━━━\u001b[0m \u001b[32m756.0/756.0 kB\u001b[0m \u001b[31m7.1 MB/s\u001b[0m eta \u001b[36m0:00:00\u001b[0m\n",
            "\u001b[?25hRequirement already satisfied: ipython>=5.3.0 in /usr/local/lib/python3.10/dist-packages (from pyvis) (7.34.0)\n",
            "Requirement already satisfied: jinja2>=2.9.6 in /usr/local/lib/python3.10/dist-packages (from pyvis) (3.1.2)\n",
            "Requirement already satisfied: jsonpickle>=1.4.1 in /usr/local/lib/python3.10/dist-packages (from pyvis) (3.0.2)\n",
            "Requirement already satisfied: networkx>=1.11 in /usr/local/lib/python3.10/dist-packages (from pyvis) (3.1)\n",
            "Requirement already satisfied: setuptools>=18.5 in /usr/local/lib/python3.10/dist-packages (from ipython>=5.3.0->pyvis) (67.7.2)\n",
            "Collecting jedi>=0.16 (from ipython>=5.3.0->pyvis)\n",
            "  Downloading jedi-0.19.0-py2.py3-none-any.whl (1.6 MB)\n",
            "\u001b[2K     \u001b[90m━━━━━━━━━━━━━━━━━━━━━━━━━━━━━━━━━━━━━━━━\u001b[0m \u001b[32m1.6/1.6 MB\u001b[0m \u001b[31m53.2 MB/s\u001b[0m eta \u001b[36m0:00:00\u001b[0m\n",
            "\u001b[?25hRequirement already satisfied: decorator in /usr/local/lib/python3.10/dist-packages (from ipython>=5.3.0->pyvis) (4.4.2)\n",
            "Requirement already satisfied: pickleshare in /usr/local/lib/python3.10/dist-packages (from ipython>=5.3.0->pyvis) (0.7.5)\n",
            "Requirement already satisfied: traitlets>=4.2 in /usr/local/lib/python3.10/dist-packages (from ipython>=5.3.0->pyvis) (5.7.1)\n",
            "Requirement already satisfied: prompt-toolkit!=3.0.0,!=3.0.1,<3.1.0,>=2.0.0 in /usr/local/lib/python3.10/dist-packages (from ipython>=5.3.0->pyvis) (3.0.39)\n",
            "Requirement already satisfied: pygments in /usr/local/lib/python3.10/dist-packages (from ipython>=5.3.0->pyvis) (2.16.1)\n",
            "Requirement already satisfied: backcall in /usr/local/lib/python3.10/dist-packages (from ipython>=5.3.0->pyvis) (0.2.0)\n",
            "Requirement already satisfied: matplotlib-inline in /usr/local/lib/python3.10/dist-packages (from ipython>=5.3.0->pyvis) (0.1.6)\n",
            "Requirement already satisfied: pexpect>4.3 in /usr/local/lib/python3.10/dist-packages (from ipython>=5.3.0->pyvis) (4.8.0)\n",
            "Requirement already satisfied: MarkupSafe>=2.0 in /usr/local/lib/python3.10/dist-packages (from jinja2>=2.9.6->pyvis) (2.1.3)\n",
            "Requirement already satisfied: parso<0.9.0,>=0.8.3 in /usr/local/lib/python3.10/dist-packages (from jedi>=0.16->ipython>=5.3.0->pyvis) (0.8.3)\n",
            "Requirement already satisfied: ptyprocess>=0.5 in /usr/local/lib/python3.10/dist-packages (from pexpect>4.3->ipython>=5.3.0->pyvis) (0.7.0)\n",
            "Requirement already satisfied: wcwidth in /usr/local/lib/python3.10/dist-packages (from prompt-toolkit!=3.0.0,!=3.0.1,<3.1.0,>=2.0.0->ipython>=5.3.0->pyvis) (0.2.6)\n",
            "Installing collected packages: jedi, pyvis\n",
            "Successfully installed jedi-0.19.0 pyvis-0.3.2\n"
          ]
        }
      ]
    },
    {
      "cell_type": "code",
      "source": [
        "import yfinance as yf\n",
        "import pandas as pd\n",
        "import zstandard\n",
        "import os\n",
        "import json\n",
        "import sys\n",
        "import logging.handlers\n",
        "import re\n",
        "from datetime import datetime, time\n",
        "import networkx as nx\n",
        "import matplotlib.pyplot as plt\n",
        "from pyvis.network import Network\n",
        "import time as t"
      ],
      "metadata": {
        "id": "v5A4AF2W3O9r"
      },
      "id": "v5A4AF2W3O9r",
      "execution_count": null,
      "outputs": []
    },
    {
      "cell_type": "markdown",
      "source": [
        "## 0. Data transformation"
      ],
      "metadata": {
        "id": "MocsnXN8kG_l"
      },
      "id": "MocsnXN8kG_l"
    },
    {
      "cell_type": "code",
      "source": [
        "# Getting posts\n",
        "if __name__ == \"__main__\":\n",
        "    file_path = 'wallstreetbets_submissions.zst'\n",
        "    output_file_path = 'output.json'\n",
        "    file_size = os.stat(file_path).st_size\n",
        "    file_lines = 0\n",
        "    file_bytes_processed = 0\n",
        "    created = None\n",
        "    field = \"subreddit\"\n",
        "    value = \"wallstreetbets\"\n",
        "    bad_lines = 0\n",
        "    output_data = []\n",
        "\n",
        "    for line, file_bytes_processed in read_lines_zst(file_path):\n",
        "        try:\n",
        "            obj = json.loads(line)\n",
        "            created = datetime.utcfromtimestamp(int(obj['created_utc']))\n",
        "            temp = obj[field] == value\n",
        "            output_data.append(obj)\n",
        "        except (KeyError, json.JSONDecodeError) as err:\n",
        "            bad_lines += 1\n",
        "        file_lines += 1\n",
        "        if file_lines % 100000 == 0:\n",
        "            log.info(f\"{created.strftime('%Y-%m-%d %H:%M:%S')} : {file_lines:,} : {bad_lines:,} : {file_bytes_processed:,}:{(file_bytes_processed / file_size) * 100:.0f}%\")\n",
        "\n",
        "    # Save the JSON data to the output file\n",
        "    with open(output_file_path, 'w') as output_file:\n",
        "        json.dump(output_data, output_file)\n",
        "\n",
        "    log.info(f\"Complete : {file_lines:,} : {bad_lines:,}\")"
      ],
      "metadata": {
        "id": "LvvsFFWlkUqJ"
      },
      "id": "LvvsFFWlkUqJ",
      "execution_count": null,
      "outputs": []
    },
    {
      "cell_type": "code",
      "source": [
        "# Key words\n",
        "keywords = ['gme', 'gamestop', 'gamestonk']\n",
        "\n",
        "# Compiling a regular expression pattern for case-insensitive search\n",
        "pattern = re.compile(r'\\b(?:{})\\b'.format('|'.join(re.escape(word) for word in keywords)), re.IGNORECASE)\n",
        "\n",
        "# Filter posts that contain the keywords\n",
        "filtered_posts = [post for post in data if pattern.search(post['title']) or pattern.search(post['selftext'])]"
      ],
      "metadata": {
        "id": "6lkoh4TDkYql"
      },
      "id": "6lkoh4TDkYql",
      "execution_count": null,
      "outputs": []
    },
    {
      "cell_type": "code",
      "source": [
        "# Edit the date field\n",
        "for post in filtered_posts:\n",
        "    try:\n",
        "        utc_timestamp = int(post['created_utc'])  # Try to convert to integer\n",
        "        post['created_utc'] = datetime.fromtimestamp(utc_timestamp).strftime('%Y-%m-%d %H:%M:%S')\n",
        "    except ValueError:  # Skip if conversion fails\n",
        "        pass\n",
        "\n",
        "for post in filtered_posts:\n",
        "    if not isinstance(post['created_utc'], datetime):\n",
        "        post['created_utc'] = datetime.strptime(post['created_utc'], '%Y-%m-%d %H:%M:%S')"
      ],
      "metadata": {
        "id": "Qz0--Mnjkf5Y"
      },
      "id": "Qz0--Mnjkf5Y",
      "execution_count": null,
      "outputs": []
    },
    {
      "cell_type": "code",
      "source": [
        "# Choosing the right dates\n",
        "start_date = datetime.strptime('2020-11-27', '%Y-%m-%d')\n",
        "end_date = datetime.strptime('2021-02-03', '%Y-%m-%d')\n",
        "\n",
        "filtered_posts_2 = [post for post in filtered_posts if start_date <= post['created_utc'] <= end_date]"
      ],
      "metadata": {
        "id": "gkqlsptDkjRR"
      },
      "id": "gkqlsptDkjRR",
      "execution_count": null,
      "outputs": []
    },
    {
      "cell_type": "code",
      "source": [
        "# Save the updated list of dictionaries to a JSON file\n",
        "with open('output2.json', 'w') as output_file:\n",
        "    json.dump(filtered_posts_2, output_file)"
      ],
      "metadata": {
        "id": "X4G5tatKkmAh"
      },
      "id": "X4G5tatKkmAh",
      "execution_count": null,
      "outputs": []
    },
    {
      "cell_type": "code",
      "source": [
        "# Getting comments\n",
        "names = set([d['name'] for d in filtered_posts_2])\n",
        "\n",
        "if __name__ == \"__main__\":\n",
        "    file_path = 'wallstreetbets_comments-001.zst'\n",
        "    output_file_path = 'comments3.json'\n",
        "    file_size = os.stat(file_path).st_size\n",
        "    file_lines = 0\n",
        "    file_bytes_processed = 0\n",
        "    created = None\n",
        "    bad_lines = 0\n",
        "    output_data = []\n",
        "\n",
        "    for line, file_bytes_processed in read_lines_zst(file_path):\n",
        "        try:\n",
        "            obj = json.loads(line)\n",
        "            created = datetime.utcfromtimestamp(int(obj['created_utc']))\n",
        "\n",
        "            # Check if 'parent_id' exists in the object and if its value is in the names list\n",
        "            if 'link_id' in obj and obj['link_id'] in names:\n",
        "                output_data.append(obj)\n",
        "\n",
        "        except (KeyError, json.JSONDecodeError) as err:\n",
        "            bad_lines += 1\n",
        "\n",
        "        file_lines += 1\n",
        "        if file_lines % 100000 == 0:\n",
        "            log.info(f\"{created.strftime('%Y-%m-%d %H:%M:%S')} : {file_lines:,} : {bad_lines:,} : {file_bytes_processed:,}:{(file_bytes_processed / file_size) * 100:.0f}%\")\n",
        "\n",
        "    # Save the filtered data to output file\n",
        "    with open(output_file_path, 'w') as output_file:\n",
        "        json.dump(output_data, output_file)\n",
        "\n",
        "    log.info(f\"Complete : {file_lines:,} : {bad_lines:,}\")"
      ],
      "metadata": {
        "id": "Xe1uW0Gpkv5y"
      },
      "id": "Xe1uW0Gpkv5y",
      "execution_count": null,
      "outputs": []
    },
    {
      "cell_type": "code",
      "source": [
        "# Data filtering to compress the file\n",
        "\n",
        "with open('comments3.json', 'r') as f:\n",
        "    comments = json.load(f)\n",
        "\n",
        "desired_keys = ['id', \"author\", \"author_fullname\",'body', \"created_utc\", \"parent_id\", \"link_id\", \"subreddit_id\", \"total_awards_received\"]\n",
        "\n",
        "filtered_data = []\n",
        "\n",
        "for item in comments:\n",
        "    filtered_item = {key: item[key] for key in desired_keys if key in item}\n",
        "    filtered_data.append(filtered_item)\n",
        "\n",
        "with open(\"filtered_comments.json\", \"w\") as output_file:\n",
        "    json.dump(filtered_data, output_file, indent=4)\n"
      ],
      "metadata": {
        "id": "H03zq1eS3dcL"
      },
      "id": "H03zq1eS3dcL",
      "execution_count": null,
      "outputs": []
    },
    {
      "cell_type": "markdown",
      "id": "c2c46eb6",
      "metadata": {
        "id": "c2c46eb6"
      },
      "source": [
        "## 1. Data exploration"
      ]
    },
    {
      "cell_type": "code",
      "source": [
        "# link to the file with submissions  https://drive.google.com/file/d/14DdxjVeTeiohR7JzAITqJiCMJsTPfuZI/view?usp=drive_link\n",
        "\n",
        "! gdown 14DdxjVeTeiohR7JzAITqJiCMJsTPfuZI"
      ],
      "metadata": {
        "colab": {
          "base_uri": "https://localhost:8080/"
        },
        "id": "BwBj_kK1kmeV",
        "outputId": "3cfd00e4-4497-4198-fa67-1a695e09cf19"
      },
      "id": "BwBj_kK1kmeV",
      "execution_count": null,
      "outputs": [
        {
          "output_type": "stream",
          "name": "stdout",
          "text": [
            "Downloading...\n",
            "From: https://drive.google.com/uc?id=14DdxjVeTeiohR7JzAITqJiCMJsTPfuZI\n",
            "To: /content/output2.json\n",
            "100% 416M/416M [00:05<00:00, 69.5MB/s]\n"
          ]
        }
      ]
    },
    {
      "cell_type": "code",
      "source": [
        "# link to the filtered file with comments https://drive.google.com/file/d/1xlB1NXwx3FrucWCmyJ_hsq-BnDGfxfYI/view?usp=share_link\n",
        "\n",
        "! gdown 1xlB1NXwx3FrucWCmyJ_hsq-BnDGfxfYI"
      ],
      "metadata": {
        "colab": {
          "base_uri": "https://localhost:8080/"
        },
        "id": "PYEXWro1k2nN",
        "outputId": "81d34e4c-64fd-4633-9add-caa7c170d6b0"
      },
      "id": "PYEXWro1k2nN",
      "execution_count": null,
      "outputs": [
        {
          "output_type": "stream",
          "name": "stdout",
          "text": [
            "Downloading...\n",
            "From: https://drive.google.com/uc?id=1xlB1NXwx3FrucWCmyJ_hsq-BnDGfxfYI\n",
            "To: /content/filtered_comments.json\n",
            "100% 1.58G/1.58G [00:19<00:00, 80.9MB/s]\n"
          ]
        }
      ]
    },
    {
      "cell_type": "code",
      "source": [
        "with open('output2.json', 'r') as f:\n",
        "    posts = json.load(f)"
      ],
      "metadata": {
        "id": "muyUTrsUk7qJ"
      },
      "id": "muyUTrsUk7qJ",
      "execution_count": null,
      "outputs": []
    },
    {
      "cell_type": "code",
      "source": [
        "with open('filtered_comments.json', 'r') as f:\n",
        "    comments = json.load(f)"
      ],
      "metadata": {
        "id": "JEz5cvT1k8Ri"
      },
      "id": "JEz5cvT1k8Ri",
      "execution_count": null,
      "outputs": []
    },
    {
      "cell_type": "code",
      "source": [
        "#check the number of posts and comments\n",
        "print('Number of posts:', len(posts))\n",
        "print('Number of comments:', len(comments))"
      ],
      "metadata": {
        "id": "sFZzgf9kpZRk",
        "colab": {
          "base_uri": "https://localhost:8080/"
        },
        "outputId": "362bd9a1-406b-422d-8b15-b597ec3a6311"
      },
      "id": "sFZzgf9kpZRk",
      "execution_count": null,
      "outputs": [
        {
          "output_type": "stream",
          "name": "stdout",
          "text": [
            "Number of posts: 138766\n",
            "Number of comments: 4209560\n"
          ]
        }
      ]
    },
    {
      "cell_type": "code",
      "source": [
        "# count deleted posts\n",
        "\n",
        "deleted_count = 0\n",
        "\n",
        "# Iterate through the posts and count deleted or removed selftext\n",
        "for post in posts:\n",
        "    if 'selftext' in post and (post['selftext'] == '[deleted]' or post['selftext'] == '[removed]'):\n",
        "        deleted_count += 1\n",
        "\n",
        "print('Number of deleted posts:', deleted_count)"
      ],
      "metadata": {
        "id": "jQptn4Vupebm",
        "colab": {
          "base_uri": "https://localhost:8080/"
        },
        "outputId": "ff3bfd0a-3d25-456d-e05d-b7b196caca12"
      },
      "id": "jQptn4Vupebm",
      "execution_count": null,
      "outputs": [
        {
          "output_type": "stream",
          "name": "stdout",
          "text": [
            "Number of deleted posts: 99133\n"
          ]
        }
      ]
    },
    {
      "cell_type": "code",
      "source": [
        "# create a pie chart of deleted posts\n",
        "\n",
        "labels = ['Existing posts', 'Removed posts']\n",
        "sizes = [(1 - deleted_count/len(posts)), (deleted_count/len(posts))]\n",
        "colors = ['lightblue', 'gray']\n",
        "\n",
        "plt.figure(figsize=(6, 6))  # Adjust the figure size as needed\n",
        "plt.pie(sizes, labels=labels, colors=colors, autopct='%1.1f%%', startangle=140)\n",
        "plt.title('Share of removed posts', fontsize=15)\n",
        "plt.show();"
      ],
      "metadata": {
        "colab": {
          "base_uri": "https://localhost:8080/",
          "height": 544
        },
        "id": "PQslrqSg-IPm",
        "outputId": "50baca3e-644a-4e7a-be7f-e53f0ffd57d7"
      },
      "id": "PQslrqSg-IPm",
      "execution_count": null,
      "outputs": [
        {
          "output_type": "display_data",
          "data": {
            "text/plain": [
              "<Figure size 600x600 with 1 Axes>"
            ],
            "image/png": "[encoded data removed]"
          },
          "metadata": {}
        }
      ]
    },
    {
      "cell_type": "code",
      "source": [
        "#count deleted comments\n",
        "\n",
        "deleted_comments = 0\n",
        "\n",
        "# Iterate through the posts and count deleted or removed selftext\n",
        "for comment in comments:\n",
        "    if 'body' in comment and (comment['body'] == '[deleted]' or comment['body'] == '[removed]'):\n",
        "        deleted_comments += 1\n",
        "\n",
        "print('Number of deleted posts:', deleted_comments)"
      ],
      "metadata": {
        "id": "fr2PbneG05aV",
        "colab": {
          "base_uri": "https://localhost:8080/"
        },
        "outputId": "aa12b645-d691-4cc4-e89a-9beb7956c376"
      },
      "id": "fr2PbneG05aV",
      "execution_count": null,
      "outputs": [
        {
          "output_type": "stream",
          "name": "stdout",
          "text": [
            "Number of deleted posts: 1287183\n"
          ]
        }
      ]
    },
    {
      "cell_type": "code",
      "source": [
        "# Create a pie chart of deleted comments\n",
        "\n",
        "labels = ['Deleted comments', 'Existing comments']\n",
        "sizes = [(deleted_comments/len(comments)), (1 - deleted_comments/len(comments))]\n",
        "colors = ['gray', 'lightblue']\n",
        "\n",
        "plt.figure(figsize=(6, 6))  # Adjust the figure size as needed\n",
        "plt.pie(sizes, labels=labels, colors=colors, autopct='%1.1f%%', startangle=140)\n",
        "plt.title('Share of deleted comments', fontsize=15)\n",
        "plt.show();"
      ],
      "metadata": {
        "colab": {
          "base_uri": "https://localhost:8080/",
          "height": 544
        },
        "id": "zoPR-gt5-Ela",
        "outputId": "2612c589-d916-46ab-aa63-5f43e0d5b433"
      },
      "id": "zoPR-gt5-Ela",
      "execution_count": null,
      "outputs": [
        {
          "output_type": "display_data",
          "data": {
            "text/plain": [
              "<Figure size 600x600 with 1 Axes>"
            ],
            "image/png": "[encoded data removed]"
          },
          "metadata": {}
        }
      ]
    },
    {
      "cell_type": "markdown",
      "id": "0471de3d",
      "metadata": {
        "id": "0471de3d"
      },
      "source": [
        "## Parsing GameStop shares daily prices\n",
        "- Retrieve GameStop daily prices from Yahoo Finance from September 29, 2020 to August 16, 2021 (the main period of Gamestop short squeeze and available reddit data)\n",
        "- We retrieved GameStop daily prices from Yahoo Finance, using the Python library yfinance, and computed the daily price return as the daily relative change, r(t) = p(t)/p(t-1), where p(t) is the Open price at day t.\n",
        "- The period over which our study focuses its attention (from November 27, 2020 to February 3, 2021) includes 99% of the posts and 98% of the comments submitted since January 1, 2016 until February 3, 2021."
      ]
    },
    {
      "cell_type": "code",
      "execution_count": null,
      "id": "8f99fd11",
      "metadata": {
        "id": "8f99fd11",
        "colab": {
          "base_uri": "https://localhost:8080/"
        },
        "outputId": "836145bc-d4fa-4355-cf0c-ddb0b093bad1"
      },
      "outputs": [
        {
          "output_type": "stream",
          "name": "stdout",
          "text": [
            "\r[*********************100%%**********************]  1 of 1 completed\n"
          ]
        }
      ],
      "source": [
        "# define the ticker for GameStop\n",
        "stock_symbol = \"GME\"\n",
        "\n",
        "# define the start and end dates\n",
        "start_date = datetime(2020, 9, 29)\n",
        "end_date = datetime(2021, 8, 17)\n",
        "\n",
        "#retrieve the data\n",
        "gme_data = yf.download(stock_symbol, start=start_date, end=end_date)\n",
        "\n",
        "gme_prices = pd.DataFrame(gme_data)"
      ]
    },
    {
      "cell_type": "code",
      "execution_count": null,
      "id": "8ac8abb9",
      "metadata": {
        "id": "8ac8abb9",
        "colab": {
          "base_uri": "https://localhost:8080/",
          "height": 221
        },
        "outputId": "0407d7fd-3546-4b01-9807-f0e064ef8922"
      },
      "outputs": [
        {
          "output_type": "execute_result",
          "data": {
            "text/plain": [
              "        Date    Open    High     Low   Close  Adj Close    Volume\n",
              "0 2020-09-29  2.5000  2.6625  2.4825  2.5875     2.5875  20950400\n",
              "1 2020-09-30  2.5625  2.6900  2.5150  2.5500     2.5500  24316000\n",
              "2 2020-10-01  2.5225  2.5625  2.4225  2.4425     2.4425  18216400\n",
              "3 2020-10-02  2.3450  2.4450  2.3250  2.3475     2.3475  17362000\n",
              "4 2020-10-05  2.3600  2.3975  2.3125  2.3650     2.3650  11220000"
            ],
            "text/html": [
              "\n",
              "  <div id=\"df-5b1f921e-c1be-4620-8003-15d5c33760a1\" class=\"colab-df-container\">\n",
              "    <div>\n",
              "<style scoped>\n",
              "    .dataframe tbody tr th:only-of-type {\n",
              "        vertical-align: middle;\n",
              "    }\n",
              "\n",
              "    .dataframe tbody tr th {\n",
              "        vertical-align: top;\n",
              "    }\n",
              "\n",
              "    .dataframe thead th {\n",
              "        text-align: right;\n",
              "    }\n",
              "</style>\n",
              "<table border=\"1\" class=\"dataframe\">\n",
              "  <thead>\n",
              "    <tr style=\"text-align: right;\">\n",
              "      <th></th>\n",
              "      <th>Date</th>\n",
              "      <th>Open</th>\n",
              "      <th>High</th>\n",
              "      <th>Low</th>\n",
              "      <th>Close</th>\n",
              "      <th>Adj Close</th>\n",
              "      <th>Volume</th>\n",
              "    </tr>\n",
              "  </thead>\n",
              "  <tbody>\n",
              "    <tr>\n",
              "      <th>0</th>\n",
              "      <td>2020-09-29</td>\n",
              "      <td>2.5000</td>\n",
              "      <td>2.6625</td>\n",
              "      <td>2.4825</td>\n",
              "      <td>2.5875</td>\n",
              "      <td>2.5875</td>\n",
              "      <td>20950400</td>\n",
              "    </tr>\n",
              "    <tr>\n",
              "      <th>1</th>\n",
              "      <td>2020-09-30</td>\n",
              "      <td>2.5625</td>\n",
              "      <td>2.6900</td>\n",
              "      <td>2.5150</td>\n",
              "      <td>2.5500</td>\n",
              "      <td>2.5500</td>\n",
              "      <td>24316000</td>\n",
              "    </tr>\n",
              "    <tr>\n",
              "      <th>2</th>\n",
              "      <td>2020-10-01</td>\n",
              "      <td>2.5225</td>\n",
              "      <td>2.5625</td>\n",
              "      <td>2.4225</td>\n",
              "      <td>2.4425</td>\n",
              "      <td>2.4425</td>\n",
              "      <td>18216400</td>\n",
              "    </tr>\n",
              "    <tr>\n",
              "      <th>3</th>\n",
              "      <td>2020-10-02</td>\n",
              "      <td>2.3450</td>\n",
              "      <td>2.4450</td>\n",
              "      <td>2.3250</td>\n",
              "      <td>2.3475</td>\n",
              "      <td>2.3475</td>\n",
              "      <td>17362000</td>\n",
              "    </tr>\n",
              "    <tr>\n",
              "      <th>4</th>\n",
              "      <td>2020-10-05</td>\n",
              "      <td>2.3600</td>\n",
              "      <td>2.3975</td>\n",
              "      <td>2.3125</td>\n",
              "      <td>2.3650</td>\n",
              "      <td>2.3650</td>\n",
              "      <td>11220000</td>\n",
              "    </tr>\n",
              "  </tbody>\n",
              "</table>\n",
              "</div>\n",
              "    <div class=\"colab-df-buttons\">\n",
              "\n",
              "  <div class=\"colab-df-container\">\n",
              "    <button class=\"colab-df-convert\" onclick=\"convertToInteractive('df-5b1f921e-c1be-4620-8003-15d5c33760a1')\"\n",
              "            title=\"Convert this dataframe to an interactive table.\"\n",
              "            style=\"display:none;\">\n",
              "\n",
              "  <svg xmlns=\"http://www.w3.org/2000/svg\" height=\"24px\" viewBox=\"0 -960 960 960\">\n",
              "    <path d=\"M120-120v-720h720v720H120Zm60-500h600v-160H180v160Zm220 220h160v-160H400v160Zm0 220h160v-160H400v160ZM180-400h160v-160H180v160Zm440 0h160v-160H620v160ZM180-180h160v-160H180v160Zm440 0h160v-160H620v160Z\"/>\n",
              "  </svg>\n",
              "    </button>\n",
              "\n",
              "  <style>\n",
              "    .colab-df-container {\n",
              "      display:flex;\n",
              "      gap: 12px;\n",
              "    }\n",
              "\n",
              "    .colab-df-convert {\n",
              "      background-color: #E8F0FE;\n",
              "      border: none;\n",
              "      border-radius: 50%;\n",
              "      cursor: pointer;\n",
              "      display: none;\n",
              "      fill: #1967D2;\n",
              "      height: 32px;\n",
              "      padding: 0 0 0 0;\n",
              "      width: 32px;\n",
              "    }\n",
              "\n",
              "    .colab-df-convert:hover {\n",
              "      background-color: #E2EBFA;\n",
              "      box-shadow: 0px 1px 2px rgba(60, 64, 67, 0.3), 0px 1px 3px 1px rgba(60, 64, 67, 0.15);\n",
              "      fill: #174EA6;\n",
              "    }\n",
              "\n",
              "    .colab-df-buttons div {\n",
              "      margin-bottom: 4px;\n",
              "    }\n",
              "\n",
              "    [theme=dark] .colab-df-convert {\n",
              "      background-color: #3B4455;\n",
              "      fill: #D2E3FC;\n",
              "    }\n",
              "\n",
              "    [theme=dark] .colab-df-convert:hover {\n",
              "      background-color: #434B5C;\n",
              "      box-shadow: 0px 1px 3px 1px rgba(0, 0, 0, 0.15);\n",
              "      filter: drop-shadow(0px 1px 2px rgba(0, 0, 0, 0.3));\n",
              "      fill: #FFFFFF;\n",
              "    }\n",
              "  </style>\n",
              "\n",
              "    <script>\n",
              "      const buttonEl =\n",
              "        document.querySelector('#df-5b1f921e-c1be-4620-8003-15d5c33760a1 button.colab-df-convert');\n",
              "      buttonEl.style.display =\n",
              "        google.colab.kernel.accessAllowed ? 'block' : 'none';\n",
              "\n",
              "      async function convertToInteractive(key) {\n",
              "        const element = document.querySelector('#df-5b1f921e-c1be-4620-8003-15d5c33760a1');\n",
              "        const dataTable =\n",
              "          await google.colab.kernel.invokeFunction('convertToInteractive',\n",
              "                                                    [key], {});\n",
              "        if (!dataTable) return;\n",
              "\n",
              "        const docLinkHtml = 'Like what you see? Visit the ' +\n",
              "          '<a target=\"_blank\" href=https://colab.research.google.com/notebooks/data_table.ipynb>data table notebook</a>'\n",
              "          + ' to learn more about interactive tables.';\n",
              "        element.innerHTML = '';\n",
              "        dataTable['output_type'] = 'display_data';\n",
              "        await google.colab.output.renderOutput(dataTable, element);\n",
              "        const docLink = document.createElement('div');\n",
              "        docLink.innerHTML = docLinkHtml;\n",
              "        element.appendChild(docLink);\n",
              "      }\n",
              "    </script>\n",
              "  </div>\n",
              "\n",
              "\n",
              "<div id=\"df-ff2cd977-73c7-4ef8-b99b-3b701ff092c4\">\n",
              "  <button class=\"colab-df-quickchart\" onclick=\"quickchart('df-ff2cd977-73c7-4ef8-b99b-3b701ff092c4')\"\n",
              "            title=\"Suggest charts.\"\n",
              "            style=\"display:none;\">\n",
              "\n",
              "<svg xmlns=\"http://www.w3.org/2000/svg\" height=\"24px\"viewBox=\"0 0 24 24\"\n",
              "     width=\"24px\">\n",
              "    <g>\n",
              "        <path d=\"M19 3H5c-1.1 0-2 .9-2 2v14c0 1.1.9 2 2 2h14c1.1 0 2-.9 2-2V5c0-1.1-.9-2-2-2zM9 17H7v-7h2v7zm4 0h-2V7h2v10zm4 0h-2v-4h2v4z\"/>\n",
              "    </g>\n",
              "</svg>\n",
              "  </button>\n",
              "\n",
              "<style>\n",
              "  .colab-df-quickchart {\n",
              "      --bg-color: #E8F0FE;\n",
              "      --fill-color: #1967D2;\n",
              "      --hover-bg-color: #E2EBFA;\n",
              "      --hover-fill-color: #174EA6;\n",
              "      --disabled-fill-color: #AAA;\n",
              "      --disabled-bg-color: #DDD;\n",
              "  }\n",
              "\n",
              "  [theme=dark] .colab-df-quickchart {\n",
              "      --bg-color: #3B4455;\n",
              "      --fill-color: #D2E3FC;\n",
              "      --hover-bg-color: #434B5C;\n",
              "      --hover-fill-color: #FFFFFF;\n",
              "      --disabled-bg-color: #3B4455;\n",
              "      --disabled-fill-color: #666;\n",
              "  }\n",
              "\n",
              "  .colab-df-quickchart {\n",
              "    background-color: var(--bg-color);\n",
              "    border: none;\n",
              "    border-radius: 50%;\n",
              "    cursor: pointer;\n",
              "    display: none;\n",
              "    fill: var(--fill-color);\n",
              "    height: 32px;\n",
              "    padding: 0;\n",
              "    width: 32px;\n",
              "  }\n",
              "\n",
              "  .colab-df-quickchart:hover {\n",
              "    background-color: var(--hover-bg-color);\n",
              "    box-shadow: 0 1px 2px rgba(60, 64, 67, 0.3), 0 1px 3px 1px rgba(60, 64, 67, 0.15);\n",
              "    fill: var(--button-hover-fill-color);\n",
              "  }\n",
              "\n",
              "  .colab-df-quickchart-complete:disabled,\n",
              "  .colab-df-quickchart-complete:disabled:hover {\n",
              "    background-color: var(--disabled-bg-color);\n",
              "    fill: var(--disabled-fill-color);\n",
              "    box-shadow: none;\n",
              "  }\n",
              "\n",
              "  .colab-df-spinner {\n",
              "    border: 2px solid var(--fill-color);\n",
              "    border-color: transparent;\n",
              "    border-bottom-color: var(--fill-color);\n",
              "    animation:\n",
              "      spin 1s steps(1) infinite;\n",
              "  }\n",
              "\n",
              "  @keyframes spin {\n",
              "    0% {\n",
              "      border-color: transparent;\n",
              "      border-bottom-color: var(--fill-color);\n",
              "      border-left-color: var(--fill-color);\n",
              "    }\n",
              "    20% {\n",
              "      border-color: transparent;\n",
              "      border-left-color: var(--fill-color);\n",
              "      border-top-color: var(--fill-color);\n",
              "    }\n",
              "    30% {\n",
              "      border-color: transparent;\n",
              "      border-left-color: var(--fill-color);\n",
              "      border-top-color: var(--fill-color);\n",
              "      border-right-color: var(--fill-color);\n",
              "    }\n",
              "    40% {\n",
              "      border-color: transparent;\n",
              "      border-right-color: var(--fill-color);\n",
              "      border-top-color: var(--fill-color);\n",
              "    }\n",
              "    60% {\n",
              "      border-color: transparent;\n",
              "      border-right-color: var(--fill-color);\n",
              "    }\n",
              "    80% {\n",
              "      border-color: transparent;\n",
              "      border-right-color: var(--fill-color);\n",
              "      border-bottom-color: var(--fill-color);\n",
              "    }\n",
              "    90% {\n",
              "      border-color: transparent;\n",
              "      border-bottom-color: var(--fill-color);\n",
              "    }\n",
              "  }\n",
              "</style>\n",
              "\n",
              "  <script>\n",
              "    async function quickchart(key) {\n",
              "      const quickchartButtonEl =\n",
              "        document.querySelector('#' + key + ' button');\n",
              "      quickchartButtonEl.disabled = true;  // To prevent multiple clicks.\n",
              "      quickchartButtonEl.classList.add('colab-df-spinner');\n",
              "      try {\n",
              "        const charts = await google.colab.kernel.invokeFunction(\n",
              "            'suggestCharts', [key], {});\n",
              "      } catch (error) {\n",
              "        console.error('Error during call to suggestCharts:', error);\n",
              "      }\n",
              "      quickchartButtonEl.classList.remove('colab-df-spinner');\n",
              "      quickchartButtonEl.classList.add('colab-df-quickchart-complete');\n",
              "    }\n",
              "    (() => {\n",
              "      let quickchartButtonEl =\n",
              "        document.querySelector('#df-ff2cd977-73c7-4ef8-b99b-3b701ff092c4 button');\n",
              "      quickchartButtonEl.style.display =\n",
              "        google.colab.kernel.accessAllowed ? 'block' : 'none';\n",
              "    })();\n",
              "  </script>\n",
              "</div>\n",
              "    </div>\n",
              "  </div>\n"
            ]
          },
          "metadata": {},
          "execution_count": 16
        }
      ],
      "source": [
        "#check\n",
        "gme_prices = gme_prices.reset_index()\n",
        "gme_prices.head()"
      ]
    },
    {
      "cell_type": "code",
      "execution_count": null,
      "id": "8cab0d1e",
      "metadata": {
        "id": "8cab0d1e",
        "outputId": "95d33c2b-13f3-44cc-ebcc-1c7f13611d48",
        "colab": {
          "base_uri": "https://localhost:8080/"
        }
      },
      "outputs": [
        {
          "output_type": "execute_result",
          "data": {
            "text/plain": [
              "222"
            ]
          },
          "metadata": {},
          "execution_count": 18
        }
      ],
      "source": [
        "len(gme_prices)"
      ]
    },
    {
      "cell_type": "code",
      "execution_count": null,
      "id": "d6c8f152",
      "metadata": {
        "id": "d6c8f152",
        "outputId": "2c4db0cd-67d0-47ec-b770-ba620094f19d",
        "colab": {
          "base_uri": "https://localhost:8080/",
          "height": 221
        }
      },
      "outputs": [
        {
          "output_type": "execute_result",
          "data": {
            "text/plain": [
              "        Date    Open    High     Low   Close  Adj Close    Volume  \\\n",
              "0 2020-09-29  2.5000  2.6625  2.4825  2.5875     2.5875  20950400   \n",
              "1 2020-09-30  2.5625  2.6900  2.5150  2.5500     2.5500  24316000   \n",
              "2 2020-10-01  2.5225  2.5625  2.4225  2.4425     2.4425  18216400   \n",
              "3 2020-10-02  2.3450  2.4450  2.3250  2.3475     2.3475  17362000   \n",
              "4 2020-10-05  2.3600  2.3975  2.3125  2.3650     2.3650  11220000   \n",
              "\n",
              "   daily_change  \n",
              "0           NaN  \n",
              "1      1.025000  \n",
              "2      0.984390  \n",
              "3      0.929633  \n",
              "4      1.006397  "
            ],
            "text/html": [
              "\n",
              "  <div id=\"df-625786ac-a92a-45b1-a074-260413b113f1\" class=\"colab-df-container\">\n",
              "    <div>\n",
              "<style scoped>\n",
              "    .dataframe tbody tr th:only-of-type {\n",
              "        vertical-align: middle;\n",
              "    }\n",
              "\n",
              "    .dataframe tbody tr th {\n",
              "        vertical-align: top;\n",
              "    }\n",
              "\n",
              "    .dataframe thead th {\n",
              "        text-align: right;\n",
              "    }\n",
              "</style>\n",
              "<table border=\"1\" class=\"dataframe\">\n",
              "  <thead>\n",
              "    <tr style=\"text-align: right;\">\n",
              "      <th></th>\n",
              "      <th>Date</th>\n",
              "      <th>Open</th>\n",
              "      <th>High</th>\n",
              "      <th>Low</th>\n",
              "      <th>Close</th>\n",
              "      <th>Adj Close</th>\n",
              "      <th>Volume</th>\n",
              "      <th>daily_change</th>\n",
              "    </tr>\n",
              "  </thead>\n",
              "  <tbody>\n",
              "    <tr>\n",
              "      <th>0</th>\n",
              "      <td>2020-09-29</td>\n",
              "      <td>2.5000</td>\n",
              "      <td>2.6625</td>\n",
              "      <td>2.4825</td>\n",
              "      <td>2.5875</td>\n",
              "      <td>2.5875</td>\n",
              "      <td>20950400</td>\n",
              "      <td>NaN</td>\n",
              "    </tr>\n",
              "    <tr>\n",
              "      <th>1</th>\n",
              "      <td>2020-09-30</td>\n",
              "      <td>2.5625</td>\n",
              "      <td>2.6900</td>\n",
              "      <td>2.5150</td>\n",
              "      <td>2.5500</td>\n",
              "      <td>2.5500</td>\n",
              "      <td>24316000</td>\n",
              "      <td>1.025000</td>\n",
              "    </tr>\n",
              "    <tr>\n",
              "      <th>2</th>\n",
              "      <td>2020-10-01</td>\n",
              "      <td>2.5225</td>\n",
              "      <td>2.5625</td>\n",
              "      <td>2.4225</td>\n",
              "      <td>2.4425</td>\n",
              "      <td>2.4425</td>\n",
              "      <td>18216400</td>\n",
              "      <td>0.984390</td>\n",
              "    </tr>\n",
              "    <tr>\n",
              "      <th>3</th>\n",
              "      <td>2020-10-02</td>\n",
              "      <td>2.3450</td>\n",
              "      <td>2.4450</td>\n",
              "      <td>2.3250</td>\n",
              "      <td>2.3475</td>\n",
              "      <td>2.3475</td>\n",
              "      <td>17362000</td>\n",
              "      <td>0.929633</td>\n",
              "    </tr>\n",
              "    <tr>\n",
              "      <th>4</th>\n",
              "      <td>2020-10-05</td>\n",
              "      <td>2.3600</td>\n",
              "      <td>2.3975</td>\n",
              "      <td>2.3125</td>\n",
              "      <td>2.3650</td>\n",
              "      <td>2.3650</td>\n",
              "      <td>11220000</td>\n",
              "      <td>1.006397</td>\n",
              "    </tr>\n",
              "  </tbody>\n",
              "</table>\n",
              "</div>\n",
              "    <div class=\"colab-df-buttons\">\n",
              "\n",
              "  <div class=\"colab-df-container\">\n",
              "    <button class=\"colab-df-convert\" onclick=\"convertToInteractive('df-625786ac-a92a-45b1-a074-260413b113f1')\"\n",
              "            title=\"Convert this dataframe to an interactive table.\"\n",
              "            style=\"display:none;\">\n",
              "\n",
              "  <svg xmlns=\"http://www.w3.org/2000/svg\" height=\"24px\" viewBox=\"0 -960 960 960\">\n",
              "    <path d=\"M120-120v-720h720v720H120Zm60-500h600v-160H180v160Zm220 220h160v-160H400v160Zm0 220h160v-160H400v160ZM180-400h160v-160H180v160Zm440 0h160v-160H620v160ZM180-180h160v-160H180v160Zm440 0h160v-160H620v160Z\"/>\n",
              "  </svg>\n",
              "    </button>\n",
              "\n",
              "  <style>\n",
              "    .colab-df-container {\n",
              "      display:flex;\n",
              "      gap: 12px;\n",
              "    }\n",
              "\n",
              "    .colab-df-convert {\n",
              "      background-color: #E8F0FE;\n",
              "      border: none;\n",
              "      border-radius: 50%;\n",
              "      cursor: pointer;\n",
              "      display: none;\n",
              "      fill: #1967D2;\n",
              "      height: 32px;\n",
              "      padding: 0 0 0 0;\n",
              "      width: 32px;\n",
              "    }\n",
              "\n",
              "    .colab-df-convert:hover {\n",
              "      background-color: #E2EBFA;\n",
              "      box-shadow: 0px 1px 2px rgba(60, 64, 67, 0.3), 0px 1px 3px 1px rgba(60, 64, 67, 0.15);\n",
              "      fill: #174EA6;\n",
              "    }\n",
              "\n",
              "    .colab-df-buttons div {\n",
              "      margin-bottom: 4px;\n",
              "    }\n",
              "\n",
              "    [theme=dark] .colab-df-convert {\n",
              "      background-color: #3B4455;\n",
              "      fill: #D2E3FC;\n",
              "    }\n",
              "\n",
              "    [theme=dark] .colab-df-convert:hover {\n",
              "      background-color: #434B5C;\n",
              "      box-shadow: 0px 1px 3px 1px rgba(0, 0, 0, 0.15);\n",
              "      filter: drop-shadow(0px 1px 2px rgba(0, 0, 0, 0.3));\n",
              "      fill: #FFFFFF;\n",
              "    }\n",
              "  </style>\n",
              "\n",
              "    <script>\n",
              "      const buttonEl =\n",
              "        document.querySelector('#df-625786ac-a92a-45b1-a074-260413b113f1 button.colab-df-convert');\n",
              "      buttonEl.style.display =\n",
              "        google.colab.kernel.accessAllowed ? 'block' : 'none';\n",
              "\n",
              "      async function convertToInteractive(key) {\n",
              "        const element = document.querySelector('#df-625786ac-a92a-45b1-a074-260413b113f1');\n",
              "        const dataTable =\n",
              "          await google.colab.kernel.invokeFunction('convertToInteractive',\n",
              "                                                    [key], {});\n",
              "        if (!dataTable) return;\n",
              "\n",
              "        const docLinkHtml = 'Like what you see? Visit the ' +\n",
              "          '<a target=\"_blank\" href=https://colab.research.google.com/notebooks/data_table.ipynb>data table notebook</a>'\n",
              "          + ' to learn more about interactive tables.';\n",
              "        element.innerHTML = '';\n",
              "        dataTable['output_type'] = 'display_data';\n",
              "        await google.colab.output.renderOutput(dataTable, element);\n",
              "        const docLink = document.createElement('div');\n",
              "        docLink.innerHTML = docLinkHtml;\n",
              "        element.appendChild(docLink);\n",
              "      }\n",
              "    </script>\n",
              "  </div>\n",
              "\n",
              "\n",
              "<div id=\"df-415f6c14-05af-4d0a-bc0a-8a07c8627605\">\n",
              "  <button class=\"colab-df-quickchart\" onclick=\"quickchart('df-415f6c14-05af-4d0a-bc0a-8a07c8627605')\"\n",
              "            title=\"Suggest charts.\"\n",
              "            style=\"display:none;\">\n",
              "\n",
              "<svg xmlns=\"http://www.w3.org/2000/svg\" height=\"24px\"viewBox=\"0 0 24 24\"\n",
              "     width=\"24px\">\n",
              "    <g>\n",
              "        <path d=\"M19 3H5c-1.1 0-2 .9-2 2v14c0 1.1.9 2 2 2h14c1.1 0 2-.9 2-2V5c0-1.1-.9-2-2-2zM9 17H7v-7h2v7zm4 0h-2V7h2v10zm4 0h-2v-4h2v4z\"/>\n",
              "    </g>\n",
              "</svg>\n",
              "  </button>\n",
              "\n",
              "<style>\n",
              "  .colab-df-quickchart {\n",
              "      --bg-color: #E8F0FE;\n",
              "      --fill-color: #1967D2;\n",
              "      --hover-bg-color: #E2EBFA;\n",
              "      --hover-fill-color: #174EA6;\n",
              "      --disabled-fill-color: #AAA;\n",
              "      --disabled-bg-color: #DDD;\n",
              "  }\n",
              "\n",
              "  [theme=dark] .colab-df-quickchart {\n",
              "      --bg-color: #3B4455;\n",
              "      --fill-color: #D2E3FC;\n",
              "      --hover-bg-color: #434B5C;\n",
              "      --hover-fill-color: #FFFFFF;\n",
              "      --disabled-bg-color: #3B4455;\n",
              "      --disabled-fill-color: #666;\n",
              "  }\n",
              "\n",
              "  .colab-df-quickchart {\n",
              "    background-color: var(--bg-color);\n",
              "    border: none;\n",
              "    border-radius: 50%;\n",
              "    cursor: pointer;\n",
              "    display: none;\n",
              "    fill: var(--fill-color);\n",
              "    height: 32px;\n",
              "    padding: 0;\n",
              "    width: 32px;\n",
              "  }\n",
              "\n",
              "  .colab-df-quickchart:hover {\n",
              "    background-color: var(--hover-bg-color);\n",
              "    box-shadow: 0 1px 2px rgba(60, 64, 67, 0.3), 0 1px 3px 1px rgba(60, 64, 67, 0.15);\n",
              "    fill: var(--button-hover-fill-color);\n",
              "  }\n",
              "\n",
              "  .colab-df-quickchart-complete:disabled,\n",
              "  .colab-df-quickchart-complete:disabled:hover {\n",
              "    background-color: var(--disabled-bg-color);\n",
              "    fill: var(--disabled-fill-color);\n",
              "    box-shadow: none;\n",
              "  }\n",
              "\n",
              "  .colab-df-spinner {\n",
              "    border: 2px solid var(--fill-color);\n",
              "    border-color: transparent;\n",
              "    border-bottom-color: var(--fill-color);\n",
              "    animation:\n",
              "      spin 1s steps(1) infinite;\n",
              "  }\n",
              "\n",
              "  @keyframes spin {\n",
              "    0% {\n",
              "      border-color: transparent;\n",
              "      border-bottom-color: var(--fill-color);\n",
              "      border-left-color: var(--fill-color);\n",
              "    }\n",
              "    20% {\n",
              "      border-color: transparent;\n",
              "      border-left-color: var(--fill-color);\n",
              "      border-top-color: var(--fill-color);\n",
              "    }\n",
              "    30% {\n",
              "      border-color: transparent;\n",
              "      border-left-color: var(--fill-color);\n",
              "      border-top-color: var(--fill-color);\n",
              "      border-right-color: var(--fill-color);\n",
              "    }\n",
              "    40% {\n",
              "      border-color: transparent;\n",
              "      border-right-color: var(--fill-color);\n",
              "      border-top-color: var(--fill-color);\n",
              "    }\n",
              "    60% {\n",
              "      border-color: transparent;\n",
              "      border-right-color: var(--fill-color);\n",
              "    }\n",
              "    80% {\n",
              "      border-color: transparent;\n",
              "      border-right-color: var(--fill-color);\n",
              "      border-bottom-color: var(--fill-color);\n",
              "    }\n",
              "    90% {\n",
              "      border-color: transparent;\n",
              "      border-bottom-color: var(--fill-color);\n",
              "    }\n",
              "  }\n",
              "</style>\n",
              "\n",
              "  <script>\n",
              "    async function quickchart(key) {\n",
              "      const quickchartButtonEl =\n",
              "        document.querySelector('#' + key + ' button');\n",
              "      quickchartButtonEl.disabled = true;  // To prevent multiple clicks.\n",
              "      quickchartButtonEl.classList.add('colab-df-spinner');\n",
              "      try {\n",
              "        const charts = await google.colab.kernel.invokeFunction(\n",
              "            'suggestCharts', [key], {});\n",
              "      } catch (error) {\n",
              "        console.error('Error during call to suggestCharts:', error);\n",
              "      }\n",
              "      quickchartButtonEl.classList.remove('colab-df-spinner');\n",
              "      quickchartButtonEl.classList.add('colab-df-quickchart-complete');\n",
              "    }\n",
              "    (() => {\n",
              "      let quickchartButtonEl =\n",
              "        document.querySelector('#df-415f6c14-05af-4d0a-bc0a-8a07c8627605 button');\n",
              "      quickchartButtonEl.style.display =\n",
              "        google.colab.kernel.accessAllowed ? 'block' : 'none';\n",
              "    })();\n",
              "  </script>\n",
              "</div>\n",
              "    </div>\n",
              "  </div>\n"
            ]
          },
          "metadata": {},
          "execution_count": 19
        }
      ],
      "source": [
        "# compute daily relative change, r(t) = p(t)/p(t-1), where p(t) is the Open price at day t.\n",
        "\n",
        "gme_prices['daily_change'] = gme_prices['Open'] / gme_prices['Open'].shift(1)\n",
        "gme_prices['Date'] = pd.to_datetime(gme_prices['Date'])\n",
        "gme_prices.head()"
      ]
    },
    {
      "cell_type": "code",
      "execution_count": null,
      "id": "fc00e740",
      "metadata": {
        "scrolled": false,
        "id": "fc00e740",
        "outputId": "659639c8-a5ed-4eec-d7bd-1e7e64a18e1c",
        "colab": {
          "base_uri": "https://localhost:8080/",
          "height": 508
        }
      },
      "outputs": [
        {
          "output_type": "display_data",
          "data": {
            "text/plain": [
              "<Figure size 640x480 with 1 Axes>"
            ],
            "image/png": "[encoded data removed]"
          },
          "metadata": {}
        }
      ],
      "source": [
        "# plot of gme stock prices\n",
        "\n",
        "plt.plot(gme_prices['Date'], gme_prices['daily_change'], marker='', linestyle='-', color='lightblue', linewidth=1)\n",
        "plt.title('Daily Relative Change Over Time')\n",
        "plt.xlabel('Date')\n",
        "plt.ylabel('Daily Relative Change')\n",
        "plt.xticks(rotation=45)\n",
        "\n",
        "num_ticks = 15\n",
        "max_relative_change = gme_prices['daily_change'].max() - 1  # Subtract 1 to get the range relative to 1\n",
        "min_relative_change = gme_prices['daily_change'].min() - 1\n",
        "step = (max_relative_change - min_relative_change) / (num_ticks - 1)\n",
        "yticks = [1 + i * step for i in range(num_ticks)]  # Add 1 back to the tick values\n",
        "plt.yticks(yticks)\n",
        "\n",
        "plt.tight_layout()\n",
        "plt.show()"
      ]
    },
    {
      "cell_type": "code",
      "execution_count": null,
      "id": "e1c94e00",
      "metadata": {
        "id": "e1c94e00",
        "outputId": "b88028aa-f3dd-4de2-8551-0cc4356b59c2",
        "colab": {
          "base_uri": "https://localhost:8080/"
        }
      },
      "outputs": [
        {
          "output_type": "execute_result",
          "data": {
            "text/plain": [
              "46"
            ]
          },
          "metadata": {},
          "execution_count": 21
        }
      ],
      "source": [
        "# filter period over which our study focuses its attention (from November 27, 2020 to February 3, 2021)\n",
        "\n",
        "start_date = '2020-11-27'\n",
        "end_date = '2021-02-03'\n",
        "filtered_prices = gme_prices.loc[(gme_prices['Date'] >= start_date) & (gme_prices['Date'] <= end_date)]\n",
        "len(filtered_prices)"
      ]
    },
    {
      "cell_type": "code",
      "execution_count": null,
      "id": "b5ae14cd",
      "metadata": {
        "id": "b5ae14cd",
        "outputId": "281b144d-e697-44aa-c51a-30bc509dcc65",
        "colab": {
          "base_uri": "https://localhost:8080/",
          "height": 508
        }
      },
      "outputs": [
        {
          "output_type": "display_data",
          "data": {
            "text/plain": [
              "<Figure size 640x480 with 1 Axes>"
            ],
            "image/png": "[encoded data removed]"
          },
          "metadata": {}
        }
      ],
      "source": [
        "plt.plot(filtered_prices['Date'], filtered_prices['daily_change'], marker='', linestyle='-', color='lightblue', linewidth=1)\n",
        "plt.title('Daily Relative Change Over Time (Nov 27, 2020 - Feb 3, 2021)')\n",
        "plt.xlabel('Date')\n",
        "plt.ylabel('Daily Relative Change')\n",
        "plt.xticks(rotation=45)\n",
        "\n",
        "x_dates = pd.date_range(start='2020-12-01', end='2021-02-02', freq='7D')\n",
        "\n",
        "plt.xticks(x_dates, [date.strftime('%d.%m.%Y') for date in x_dates])\n",
        "\n",
        "plt.tight_layout()\n",
        "plt.show()"
      ]
    },
    {
      "cell_type": "markdown",
      "id": "1210b4ad",
      "metadata": {
        "id": "1210b4ad"
      },
      "source": [
        "**Data variables inside post**:\n",
        "- Selftext (body)\n",
        "- Flairs to posts: a set of community-defined tags to define the semantic scope of the post, thus facilitating content search and filtering\n",
        "- Awards to posts or comments to recognize their value. Awards are sold by Reddit for money, they come in a variety of types, and some of them reward the recipient with money or perks such as access to exclusive subreddits."
      ]
    },
    {
      "cell_type": "code",
      "execution_count": null,
      "id": "e32c704d",
      "metadata": {
        "id": "e32c704d"
      },
      "outputs": [],
      "source": [
        "with open('gme_submissions.json', 'r') as f:\n",
        "    gme_submissions = json.load(f)"
      ]
    },
    {
      "cell_type": "code",
      "execution_count": null,
      "id": "82fc3b9b",
      "metadata": {
        "id": "82fc3b9b"
      },
      "outputs": [],
      "source": [
        "# filtering json file to only keep crucial features\n",
        "\n",
        "fields_to_keep = ['id', \"author\", 'author_flair_text', 'link_flair_css_class',\n",
        "                  'num_comments', 'selftext', 'title', 'retrieved_utc', \"url\", 'created_utc']\n",
        "\n",
        "filtered_data = []\n",
        "for entry in gme_submissions:\n",
        "    filtered_entry = {field: entry.get(field) for field in fields_to_keep}\n",
        "    filtered_data.append(filtered_entry)"
      ]
    },
    {
      "cell_type": "code",
      "execution_count": null,
      "id": "0499e4d9",
      "metadata": {
        "id": "0499e4d9"
      },
      "outputs": [],
      "source": [
        "# change the Unix time in created_utc into the datetime\n",
        "\n",
        "for entry in filtered_data:\n",
        "    postdate_str = entry.get('created_utc')\n",
        "    if postdate_str is not None:\n",
        "        postdate = datetime.fromisoformat(postdate_str)\n",
        "        entry['date'] = postdate.date().isoformat()"
      ]
    },
    {
      "cell_type": "markdown",
      "id": "97436c6f",
      "metadata": {
        "id": "97436c6f"
      },
      "source": [
        "#### (submissions_features.json is the one to continue work with!)"
      ]
    },
    {
      "cell_type": "code",
      "execution_count": null,
      "id": "e7ac9811",
      "metadata": {
        "id": "e7ac9811"
      },
      "outputs": [],
      "source": [
        "# Save the updated data back to the JSON file (submissions_features.json is the one to continue work with!)\n",
        "updated_file_path = 'submissions_features.json'\n",
        "with open(updated_file_path, 'w') as updated_json_file:\n",
        "    json.dump(filtered_data, updated_json_file, indent=4)"
      ]
    },
    {
      "cell_type": "markdown",
      "id": "4105d0dc",
      "metadata": {
        "id": "4105d0dc"
      },
      "source": [
        "# 2. Quantifying commitment"
      ]
    },
    {
      "cell_type": "code",
      "execution_count": null,
      "id": "1dc897b2",
      "metadata": {
        "id": "1dc897b2",
        "outputId": "08bbd1fd-fad0-45a3-be2b-ef4aa3cd27a5"
      },
      "outputs": [
        {
          "data": {
            "text/plain": [
              "138766"
            ]
          },
          "execution_count": 18,
          "metadata": {},
          "output_type": "execute_result"
        }
      ],
      "source": [
        "with open('submissions_features.json', 'r') as f:\n",
        "    submissions_data = json.load(f)\n",
        "\n",
        "len(submissions_data)"
      ]
    },
    {
      "cell_type": "code",
      "execution_count": null,
      "id": "c7b63b33",
      "metadata": {
        "id": "c7b63b33",
        "outputId": "5ba181f8-a884-40f4-c825-a94fe08ff1a1"
      },
      "outputs": [
        {
          "data": {
            "text/plain": [
              "{'id': 'k1phz2',\n",
              " 'author': 'SnooWalruses7854',\n",
              " 'author_flair_text': None,\n",
              " 'link_flair_css_class': 'question',\n",
              " 'num_comments': 21,\n",
              " 'selftext': '[removed]',\n",
              " 'title': 'I guess the GME short squeeze is over??',\n",
              " 'retrieved_utc': 1623088871,\n",
              " 'url': 'https://www.reddit.com/r/wallstreetbets/comments/k1phz2/i_guess_the_gme_short_squeeze_is_over/',\n",
              " 'created_utc': '2020-11-27T00:07:12',\n",
              " 'date': '2020-11-27'}"
            ]
          },
          "execution_count": 19,
          "metadata": {},
          "output_type": "execute_result"
        }
      ],
      "source": [
        "submissions_data[0]"
      ]
    },
    {
      "cell_type": "markdown",
      "id": "99996dc3",
      "metadata": {
        "id": "99996dc3"
      },
      "source": [
        "#### plot 1: (a) number of posts submitted on WSB"
      ]
    },
    {
      "cell_type": "code",
      "execution_count": null,
      "id": "427d6064",
      "metadata": {
        "id": "427d6064",
        "colab": {
          "base_uri": "https://localhost:8080/",
          "height": 258
        },
        "outputId": "721b9e24-e4b1-434c-d14f-22109d951fc5"
      },
      "outputs": [
        {
          "output_type": "error",
          "ename": "NameError",
          "evalue": "ignored",
          "traceback": [
            "\u001b[0;31m---------------------------------------------------------------------------\u001b[0m",
            "\u001b[0;31mNameError\u001b[0m                                 Traceback (most recent call last)",
            "\u001b[0;32m<ipython-input-23-68d08cacf26f>\u001b[0m in \u001b[0;36m<cell line: 3>\u001b[0;34m()\u001b[0m\n\u001b[1;32m      1\u001b[0m \u001b[0mposts_per_day\u001b[0m \u001b[0;34m=\u001b[0m \u001b[0;34m{\u001b[0m\u001b[0;34m}\u001b[0m\u001b[0;34m\u001b[0m\u001b[0;34m\u001b[0m\u001b[0m\n\u001b[1;32m      2\u001b[0m \u001b[0;34m\u001b[0m\u001b[0m\n\u001b[0;32m----> 3\u001b[0;31m \u001b[0;32mfor\u001b[0m \u001b[0mentry\u001b[0m \u001b[0;32min\u001b[0m \u001b[0msubmissions_data\u001b[0m\u001b[0;34m:\u001b[0m\u001b[0;34m\u001b[0m\u001b[0;34m\u001b[0m\u001b[0m\n\u001b[0m\u001b[1;32m      4\u001b[0m     \u001b[0mdate_str\u001b[0m \u001b[0;34m=\u001b[0m \u001b[0mentry\u001b[0m\u001b[0;34m.\u001b[0m\u001b[0mget\u001b[0m\u001b[0;34m(\u001b[0m\u001b[0;34m'date'\u001b[0m\u001b[0;34m)\u001b[0m\u001b[0;34m\u001b[0m\u001b[0;34m\u001b[0m\u001b[0m\n\u001b[1;32m      5\u001b[0m     \u001b[0;32mif\u001b[0m \u001b[0mdate_str\u001b[0m \u001b[0;32mis\u001b[0m \u001b[0;32mnot\u001b[0m \u001b[0;32mNone\u001b[0m\u001b[0;34m:\u001b[0m\u001b[0;34m\u001b[0m\u001b[0;34m\u001b[0m\u001b[0m\n",
            "\u001b[0;31mNameError\u001b[0m: name 'submissions_data' is not defined"
          ]
        }
      ],
      "source": [
        "posts_per_day = {}\n",
        "\n",
        "for entry in submissions_data:\n",
        "    date_str = entry.get('date')\n",
        "    if date_str is not None:\n",
        "        date = datetime.fromisoformat(date_str)\n",
        "        if date.date() in posts_per_day:\n",
        "            posts_per_day[date.date()] += 1\n",
        "        else:\n",
        "            posts_per_day[date.date()] = 1"
      ]
    },
    {
      "cell_type": "code",
      "execution_count": null,
      "id": "370ee7a1",
      "metadata": {
        "id": "370ee7a1",
        "outputId": "b993787d-4647-421d-8e41-af5f7646d7a8"
      },
      "outputs": [
        {
          "data": {
            "text/html": [
              "<div>\n",
              "<style scoped>\n",
              "    .dataframe tbody tr th:only-of-type {\n",
              "        vertical-align: middle;\n",
              "    }\n",
              "\n",
              "    .dataframe tbody tr th {\n",
              "        vertical-align: top;\n",
              "    }\n",
              "\n",
              "    .dataframe thead th {\n",
              "        text-align: right;\n",
              "    }\n",
              "</style>\n",
              "<table border=\"1\" class=\"dataframe\">\n",
              "  <thead>\n",
              "    <tr style=\"text-align: right;\">\n",
              "      <th></th>\n",
              "      <th>Date</th>\n",
              "      <th>n_posts</th>\n",
              "    </tr>\n",
              "  </thead>\n",
              "  <tbody>\n",
              "    <tr>\n",
              "      <th>0</th>\n",
              "      <td>2020-11-27</td>\n",
              "      <td>60</td>\n",
              "    </tr>\n",
              "    <tr>\n",
              "      <th>1</th>\n",
              "      <td>2020-11-28</td>\n",
              "      <td>62</td>\n",
              "    </tr>\n",
              "    <tr>\n",
              "      <th>2</th>\n",
              "      <td>2020-11-29</td>\n",
              "      <td>101</td>\n",
              "    </tr>\n",
              "    <tr>\n",
              "      <th>3</th>\n",
              "      <td>2020-11-30</td>\n",
              "      <td>228</td>\n",
              "    </tr>\n",
              "    <tr>\n",
              "      <th>4</th>\n",
              "      <td>2020-12-01</td>\n",
              "      <td>134</td>\n",
              "    </tr>\n",
              "    <tr>\n",
              "      <th>...</th>\n",
              "      <td>...</td>\n",
              "      <td>...</td>\n",
              "    </tr>\n",
              "    <tr>\n",
              "      <th>63</th>\n",
              "      <td>2021-01-29</td>\n",
              "      <td>18280</td>\n",
              "    </tr>\n",
              "    <tr>\n",
              "      <th>64</th>\n",
              "      <td>2021-01-30</td>\n",
              "      <td>9777</td>\n",
              "    </tr>\n",
              "    <tr>\n",
              "      <th>65</th>\n",
              "      <td>2021-01-31</td>\n",
              "      <td>8816</td>\n",
              "    </tr>\n",
              "    <tr>\n",
              "      <th>66</th>\n",
              "      <td>2021-02-01</td>\n",
              "      <td>14328</td>\n",
              "    </tr>\n",
              "    <tr>\n",
              "      <th>67</th>\n",
              "      <td>2021-02-02</td>\n",
              "      <td>16263</td>\n",
              "    </tr>\n",
              "  </tbody>\n",
              "</table>\n",
              "<p>68 rows × 2 columns</p>\n",
              "</div>"
            ],
            "text/plain": [
              "          Date  n_posts\n",
              "0   2020-11-27       60\n",
              "1   2020-11-28       62\n",
              "2   2020-11-29      101\n",
              "3   2020-11-30      228\n",
              "4   2020-12-01      134\n",
              "..         ...      ...\n",
              "63  2021-01-29    18280\n",
              "64  2021-01-30     9777\n",
              "65  2021-01-31     8816\n",
              "66  2021-02-01    14328\n",
              "67  2021-02-02    16263\n",
              "\n",
              "[68 rows x 2 columns]"
            ]
          },
          "execution_count": 21,
          "metadata": {},
          "output_type": "execute_result"
        }
      ],
      "source": [
        "result_data = [{'Date': day, 'n_posts': count} for day, count in posts_per_day.items()]\n",
        "posts_number = pd.DataFrame(result_data)\n",
        "posts_number = posts_number.iloc[:-1,:]\n",
        "posts_number"
      ]
    },
    {
      "cell_type": "code",
      "execution_count": null,
      "id": "a6e83261",
      "metadata": {
        "id": "a6e83261",
        "outputId": "53b301ef-75fe-46f6-87de-aca0fab7ee3b"
      },
      "outputs": [
        {
          "data": {
            "image/png": "[encoded data removed]",
            "text/plain": [
              "<Figure size 640x480 with 1 Axes>"
            ]
          },
          "metadata": {},
          "output_type": "display_data"
        }
      ],
      "source": [
        "plt.plot(posts_number['Date'], posts_number['n_posts'], marker='', linestyle='-', color='red', linewidth=1)\n",
        "plt.title('N of WSB posts Over Time (Nov 27, 2020 - Feb 3, 2021)')\n",
        "plt.xlabel('Date')\n",
        "plt.ylabel('WSB posts')\n",
        "\n",
        "plt.xticks(rotation=45)\n",
        "x_dates = pd.date_range(start='2020-12-01', end='2021-02-02', freq='7D')\n",
        "plt.xticks(x_dates, [date.strftime('%d.%m.%Y') for date in x_dates])\n",
        "\n",
        "plt.yscale('log')\n",
        "\n",
        "plt.tight_layout()\n",
        "plt.show()"
      ]
    },
    {
      "cell_type": "code",
      "source": [
        "# Create a figure and axis for the first plot\n",
        "fig, ax1 = plt.subplots()\n",
        "\n",
        "# Plot the first data on the left y-axis\n",
        "ax1.plot(posts_number['Date'], posts_number['n_posts'], marker='', linestyle='-', color='red', linewidth=1)\n",
        "ax1.set_ylabel('WSB posts', color='red')\n",
        "ax1.tick_params(axis='y', labelcolor='red')\n",
        "ax1.set_yscale('log')\n",
        "\n",
        "# Create a second y-axis on the left side\n",
        "ax2 = ax1.twinx()\n",
        "\n",
        "# Plot the second data on the right y-axis\n",
        "ax2.plot(filtered_prices['Date'], filtered_prices['daily_change'], marker='', linestyle='-', color='steelblue', linewidth=1)\n",
        "ax2.set_xlabel('Date')\n",
        "ax2.set_ylabel('GME Daily Relative Change', color='steelblue')\n",
        "ax2.tick_params(axis='y', labelcolor='steelblue')\n",
        "ax2.set_title('GME Daily Relative Change and WSB Posts (Nov 27, 2020 - Feb 3, 2021)')\n",
        "\n",
        "# Format x-axis ticks\n",
        "x_dates = pd.date_range(start='2020-12-01', end='2021-02-02', freq='7D')\n",
        "ax1.set_xticks(x_dates)\n",
        "ax1.set_xticklabels([date.strftime('%d.%m.%Y') for date in x_dates], rotation=45)\n",
        "\n",
        "# Add dashed lines for events with adjusted length\n",
        "event_dates = ['08.12.2020', '11.01.2021', '19.01.2021', '26.01.2021']\n",
        "event_labels = ['a', 'b', 'c', 'd']\n",
        "line_length = 0.95  # Adjust the length of the lines\n",
        "\n",
        "for event_date, event_label in zip(event_dates, event_labels):\n",
        "    event_date = pd.to_datetime(event_date, format='%d.%m.%Y')\n",
        "    ax1.axvline(event_date, color='gray', linestyle='--', linewidth=1, ymin=0, ymax=line_length)\n",
        "    ax1.text(event_date, ax1.get_ylim()[1] * 0.7, event_label, va='bottom', ha='center', color='gray')\n",
        "\n",
        "# Ensure that the plots are properly displayed without overlap\n",
        "plt.tight_layout()\n",
        "\n",
        "# Show the combined plot\n",
        "plt.show()\n",
        "\n"
      ],
      "metadata": {
        "id": "gfQ3LF-tOooc"
      },
      "id": "gfQ3LF-tOooc",
      "execution_count": null,
      "outputs": []
    },
    {
      "cell_type": "markdown",
      "id": "fca4c7de",
      "metadata": {
        "id": "fca4c7de"
      },
      "source": [
        "#### plot 2: (b) number of posts on WSB that showed financial commitment (flairs)"
      ]
    },
    {
      "cell_type": "code",
      "execution_count": null,
      "id": "72b19a62",
      "metadata": {
        "scrolled": true,
        "id": "72b19a62",
        "outputId": "852c4be1-97a0-498e-a21f-5c155fb37316"
      },
      "outputs": [
        {
          "name": "stdout",
          "output_type": "stream",
          "text": [
            "profit: 8106 posts\n",
            "loss: 3091 posts\n",
            "yolo: 24568 posts\n"
          ]
        }
      ],
      "source": [
        "# check flair marks in posts: gain, loss, YOLO in link_flair_css_class\n",
        "### they do not have 'gain', only 'profit' flair\n",
        "\n",
        "flair_counts = {'profit': 0, 'loss': 0, 'yolo': 0}\n",
        "\n",
        "# Iterate through the data entries\n",
        "for entry in submissions_data:\n",
        "    author_flair = entry.get('link_flair_css_class')\n",
        "    if author_flair in flair_counts:\n",
        "        flair_counts[author_flair] += 1\n",
        "\n",
        "# Print the counts for each flair\n",
        "for flair, count in flair_counts.items():\n",
        "    print(f\"{flair}: {count} posts\")"
      ]
    },
    {
      "cell_type": "code",
      "execution_count": null,
      "id": "2978fe5e",
      "metadata": {
        "id": "2978fe5e",
        "outputId": "6de6ba13-3f42-4c46-9031-8e47337cd1cd"
      },
      "outputs": [
        {
          "data": {
            "text/plain": [
              "{'chart',\n",
              " 'daily',\n",
              " 'dd',\n",
              " 'donation',\n",
              " 'earnings',\n",
              " 'fundamentals',\n",
              " 'futures',\n",
              " 'loss',\n",
              " 'meme',\n",
              " 'mods',\n",
              " 'news',\n",
              " 'options',\n",
              " 'profit',\n",
              " 'question',\n",
              " 'satire',\n",
              " 'shitpost',\n",
              " 'stocks',\n",
              " 'storytime',\n",
              " 'technicals',\n",
              " 'weekend',\n",
              " 'yolo'}"
            ]
          },
          "execution_count": 24,
          "metadata": {},
          "output_type": "execute_result"
        }
      ],
      "source": [
        "unique_flairs = set()\n",
        "\n",
        "for entry in submissions_data:\n",
        "    author_flair = entry.get('link_flair_css_class')\n",
        "    if author_flair is not None:\n",
        "        unique_flairs.add(author_flair)\n",
        "\n",
        "unique_flairs"
      ]
    },
    {
      "cell_type": "code",
      "execution_count": null,
      "id": "b08e435e",
      "metadata": {
        "id": "b08e435e"
      },
      "outputs": [],
      "source": [
        "for entry in submissions_data:\n",
        "    date_str = entry.get('date')\n",
        "    if date_str:\n",
        "        entry['date'] = datetime.strptime(date_str, '%Y-%m-%d').date()"
      ]
    },
    {
      "cell_type": "code",
      "execution_count": null,
      "id": "c6bbac39",
      "metadata": {
        "id": "c6bbac39",
        "outputId": "95f6320b-bd5e-4eee-aa75-24266d2cd828"
      },
      "outputs": [
        {
          "data": {
            "text/plain": [
              "datetime.date(2020, 11, 27)"
            ]
          },
          "execution_count": 26,
          "metadata": {},
          "output_type": "execute_result"
        }
      ],
      "source": [
        "submissions_data[0]['date']"
      ]
    },
    {
      "cell_type": "code",
      "execution_count": null,
      "id": "8a51568b",
      "metadata": {
        "id": "8a51568b"
      },
      "outputs": [],
      "source": [
        "dates = []\n",
        "n_profit = []\n",
        "n_loss = []\n",
        "n_yolo = []\n",
        "\n",
        "specific_flairs = ['profit', 'loss', 'yolo']\n",
        "\n",
        "# Iterate through the data entries\n",
        "for entry in submissions_data:\n",
        "    date = entry.get('date')\n",
        "    flair = entry.get('link_flair_css_class')\n",
        "\n",
        "    if date is not None and flair in specific_flairs:\n",
        "        dates.append(date)\n",
        "        if flair == 'profit':\n",
        "            n_profit.append(1)\n",
        "            n_loss.append(0)\n",
        "            n_yolo.append(0)\n",
        "        elif flair == 'loss':\n",
        "            n_profit.append(0)\n",
        "            n_loss.append(1)\n",
        "            n_yolo.append(0)\n",
        "        elif flair == 'yolo':\n",
        "            n_profit.append(0)\n",
        "            n_loss.append(0)\n",
        "            n_yolo.append(1)\n",
        "\n",
        "# Create a pandas DataFrame\n",
        "flair_counts_df = pd.DataFrame({\n",
        "    'Date': dates,\n",
        "    'n_profit': n_profit,\n",
        "    'n_loss': n_loss,\n",
        "    'n_yolo': n_yolo\n",
        "})\n",
        "\n",
        "# Group by date and sum the counts\n",
        "flair_counts = flair_counts_df.groupby('Date').sum().reset_index()\n",
        "flair_counts['financial_commitments'] = flair_counts['n_profit'] + flair_counts['n_loss'] + flair_counts['n_yolo']"
      ]
    },
    {
      "cell_type": "code",
      "execution_count": null,
      "id": "7b21217e",
      "metadata": {
        "id": "7b21217e",
        "outputId": "55bee716-f367-43be-9d99-ca6e792ee179"
      },
      "outputs": [
        {
          "data": {
            "text/html": [
              "<div>\n",
              "<style scoped>\n",
              "    .dataframe tbody tr th:only-of-type {\n",
              "        vertical-align: middle;\n",
              "    }\n",
              "\n",
              "    .dataframe tbody tr th {\n",
              "        vertical-align: top;\n",
              "    }\n",
              "\n",
              "    .dataframe thead th {\n",
              "        text-align: right;\n",
              "    }\n",
              "</style>\n",
              "<table border=\"1\" class=\"dataframe\">\n",
              "  <thead>\n",
              "    <tr style=\"text-align: right;\">\n",
              "      <th></th>\n",
              "      <th>Date</th>\n",
              "      <th>n_profit</th>\n",
              "      <th>n_loss</th>\n",
              "      <th>n_yolo</th>\n",
              "      <th>financial_commitments</th>\n",
              "    </tr>\n",
              "  </thead>\n",
              "  <tbody>\n",
              "    <tr>\n",
              "      <th>0</th>\n",
              "      <td>2020-11-27</td>\n",
              "      <td>4</td>\n",
              "      <td>0</td>\n",
              "      <td>5</td>\n",
              "      <td>9</td>\n",
              "    </tr>\n",
              "    <tr>\n",
              "      <th>1</th>\n",
              "      <td>2020-11-28</td>\n",
              "      <td>0</td>\n",
              "      <td>1</td>\n",
              "      <td>5</td>\n",
              "      <td>6</td>\n",
              "    </tr>\n",
              "    <tr>\n",
              "      <th>2</th>\n",
              "      <td>2020-11-29</td>\n",
              "      <td>5</td>\n",
              "      <td>0</td>\n",
              "      <td>8</td>\n",
              "      <td>13</td>\n",
              "    </tr>\n",
              "    <tr>\n",
              "      <th>3</th>\n",
              "      <td>2020-11-30</td>\n",
              "      <td>12</td>\n",
              "      <td>4</td>\n",
              "      <td>31</td>\n",
              "      <td>47</td>\n",
              "    </tr>\n",
              "    <tr>\n",
              "      <th>4</th>\n",
              "      <td>2020-12-01</td>\n",
              "      <td>2</td>\n",
              "      <td>5</td>\n",
              "      <td>7</td>\n",
              "      <td>14</td>\n",
              "    </tr>\n",
              "    <tr>\n",
              "      <th>...</th>\n",
              "      <td>...</td>\n",
              "      <td>...</td>\n",
              "      <td>...</td>\n",
              "      <td>...</td>\n",
              "      <td>...</td>\n",
              "    </tr>\n",
              "    <tr>\n",
              "      <th>59</th>\n",
              "      <td>2021-01-29</td>\n",
              "      <td>904</td>\n",
              "      <td>215</td>\n",
              "      <td>3375</td>\n",
              "      <td>4494</td>\n",
              "    </tr>\n",
              "    <tr>\n",
              "      <th>60</th>\n",
              "      <td>2021-01-30</td>\n",
              "      <td>385</td>\n",
              "      <td>128</td>\n",
              "      <td>1280</td>\n",
              "      <td>1793</td>\n",
              "    </tr>\n",
              "    <tr>\n",
              "      <th>61</th>\n",
              "      <td>2021-01-31</td>\n",
              "      <td>374</td>\n",
              "      <td>93</td>\n",
              "      <td>1280</td>\n",
              "      <td>1747</td>\n",
              "    </tr>\n",
              "    <tr>\n",
              "      <th>62</th>\n",
              "      <td>2021-02-01</td>\n",
              "      <td>654</td>\n",
              "      <td>433</td>\n",
              "      <td>2723</td>\n",
              "      <td>3810</td>\n",
              "    </tr>\n",
              "    <tr>\n",
              "      <th>63</th>\n",
              "      <td>2021-02-02</td>\n",
              "      <td>590</td>\n",
              "      <td>1075</td>\n",
              "      <td>2750</td>\n",
              "      <td>4415</td>\n",
              "    </tr>\n",
              "  </tbody>\n",
              "</table>\n",
              "<p>64 rows × 5 columns</p>\n",
              "</div>"
            ],
            "text/plain": [
              "          Date  n_profit  n_loss  n_yolo  financial_commitments\n",
              "0   2020-11-27         4       0       5                      9\n",
              "1   2020-11-28         0       1       5                      6\n",
              "2   2020-11-29         5       0       8                     13\n",
              "3   2020-11-30        12       4      31                     47\n",
              "4   2020-12-01         2       5       7                     14\n",
              "..         ...       ...     ...     ...                    ...\n",
              "59  2021-01-29       904     215    3375                   4494\n",
              "60  2021-01-30       385     128    1280                   1793\n",
              "61  2021-01-31       374      93    1280                   1747\n",
              "62  2021-02-01       654     433    2723                   3810\n",
              "63  2021-02-02       590    1075    2750                   4415\n",
              "\n",
              "[64 rows x 5 columns]"
            ]
          },
          "execution_count": 28,
          "metadata": {},
          "output_type": "execute_result"
        }
      ],
      "source": [
        "flair_counts"
      ]
    },
    {
      "cell_type": "code",
      "execution_count": null,
      "id": "c0a0b661",
      "metadata": {
        "id": "c0a0b661",
        "outputId": "f05f1fbc-7799-47ec-dac4-7a3e3edce48d"
      },
      "outputs": [
        {
          "data": {
            "image/png": "[encoded data removed]",
            "text/plain": [
              "<Figure size 640x480 with 1 Axes>"
            ]
          },
          "metadata": {},
          "output_type": "display_data"
        }
      ],
      "source": [
        "plt.plot(flair_counts['Date'], flair_counts['financial_commitments'], marker='', linestyle='-', color='red', linewidth=1)\n",
        "plt.title('GME commitments events (Nov 27, 2020 - Feb 3, 2021)')\n",
        "plt.xlabel('Date')\n",
        "plt.ylabel('GME commitments events')\n",
        "\n",
        "plt.xticks(rotation=45)\n",
        "x_dates = pd.date_range(start='2020-12-01', end='2021-02-02', freq='7D')\n",
        "plt.xticks(x_dates, [date.strftime('%d.%m.%Y') for date in x_dates])\n",
        "\n",
        "plt.yscale('log')\n",
        "\n",
        "plt.tight_layout()\n",
        "plt.show()"
      ]
    },
    {
      "cell_type": "code",
      "source": [
        "#Count of posts by flare and date\n",
        "# Convert list of dictionaries to a Pandas DataFrame\n",
        "df = pd.DataFrame(posts)\n",
        "\n",
        "# Filter rows to include only the flair classes you're interested in\n",
        "df = df[df['link_flair_css_class'].isin(['profit', 'loss', 'yolo'])]\n",
        "\n",
        "# Convert 'created_utc' to datetime format and remove time component\n",
        "df['created_utc'] = pd.to_datetime(df['created_utc']).dt.date\n",
        "\n",
        "# Group the data by 'created_utc' and 'link_flair_css_class' and count the number of occurrences\n",
        "grouped_df = df.groupby(['created_utc', 'link_flair_css_class']).size().reset_index(name='count')\n",
        "\n",
        "# Pivot the DataFrame so that 'link_flair_css_class' values become columns\n",
        "pivot_df = grouped_df.pivot(index='created_utc', columns='link_flair_css_class', values='count').fillna(0)\n",
        "\n",
        "# Plotting the data\n",
        "plt.figure(figsize=(10, 6))\n",
        "\n",
        "colors = {\n",
        "    'profit': 'steelblue',\n",
        "    'loss': 'lightseagreen',\n",
        "    'yolo': 'rebeccapurple'\n",
        "}\n",
        "\n",
        "linestyle = {\n",
        "    'profit': '--',\n",
        "    'loss': '-.',\n",
        "    'yolo': '-'\n",
        "}\n",
        "\n",
        "# Plot each line\n",
        "for column in pivot_df.columns:\n",
        "    plt.plot(pivot_df.index, pivot_df[column], label=column, color=colors[column], linestyle=linestyle[column])\n",
        "\n",
        "plt.title('Count of Posts by Flair and Date', fontsize = 15, pad=20)\n",
        "plt.ylabel('Events')\n",
        "\n",
        "# Set y-axis to logarithmic scale\n",
        "plt.yscale(\"log\")\n",
        "\n",
        "# Customize y-ticks\n",
        "plt.yticks([1, 10**1, 10**2, 10**3, 10**4, 10**5], ['0', '$10^1$', '$10^2$', '$10^3$', '$10^4$', '$10^5$'])\n",
        "\n",
        "# Get the current axis\n",
        "ax = plt.gca()\n",
        "\n",
        "# Add dashed lines for events with adjusted length\n",
        "event_dates = ['08.12.2020', '11.01.2021', '19.01.2021', '26.01.2021']\n",
        "line_length = 0.95  # Adjust the length of the lines\n",
        "\n",
        "for event_date, event_label in zip(event_dates, event_labels):\n",
        "    event_date = pd.to_datetime(event_date, format='%d.%m.%Y')\n",
        "    ax.axvline(event_date, color='gray', linestyle='--', linewidth=1, ymin=0, ymax=line_length)\n",
        "    ax.text(event_date, ax.get_ylim()[1] * line_length, event_label, va='bottom', ha='center', color='gray')\n",
        "\n",
        "# Move the legend to the middle of the plot\n",
        "legend = plt.legend(loc='upper center', bbox_to_anchor=(0.5, 0.6), fancybox=False, shadow=False)\n",
        "\n",
        "# Remove the legend border\n",
        "legend.get_frame().set_linewidth(0.0)\n",
        "\n",
        "# Remove the top and right spines by setting their color and linewidth to 'none'\n",
        "ax.spines['top'].set_color('none')\n",
        "ax.spines['right'].set_color('none')\n",
        "\n",
        "for tick in ax.get_xticklabels():\n",
        "    tick.set_rotation(50)\n",
        "\n",
        "plt.show()"
      ],
      "metadata": {
        "id": "SLt-Oyki64UW"
      },
      "id": "SLt-Oyki64UW",
      "execution_count": null,
      "outputs": []
    },
    {
      "cell_type": "code",
      "source": [
        "fig, ax1 = plt.subplots()\n",
        "\n",
        "# Plot the first data on the left y-axis\n",
        "ax1.plot(flair_counts['Date'], flair_counts['financial_commitments'], marker='', linestyle='-',\n",
        "         color='red', linewidth=1)\n",
        "ax1.set_ylabel('GME commitments events', color='red')\n",
        "ax1.tick_params(axis='y', labelcolor='red')\n",
        "ax1.set_yscale('log')\n",
        "\n",
        "# Create a second y-axis on the left side\n",
        "ax2 = ax1.twinx()\n",
        "\n",
        "# Plot the second data on the right y-axis\n",
        "ax2.plot(filtered_prices['Date'], filtered_prices['daily_change'], marker='', linestyle='-', color='steelblue', linewidth=1)\n",
        "ax2.set_xlabel('Date')\n",
        "ax2.set_ylabel('GME Daily Relative Change', color='steelblue')\n",
        "ax2.tick_params(axis='y', labelcolor='steelblue')\n",
        "ax2.set_title('GME commitments events (Nov 27, 2020 - Feb 3, 2021)')\n",
        "\n",
        "# Format x-axis ticks\n",
        "x_dates = pd.date_range(start='2020-12-01', end='2021-02-02', freq='7D')\n",
        "ax1.set_xticks(x_dates)\n",
        "ax1.set_xticklabels([date.strftime('%d.%m.%Y') for date in x_dates], rotation=45)\n",
        "\n",
        "# Add dashed lines for events with adjusted length\n",
        "event_dates = ['08.12.2020', '11.01.2021', '19.01.2021', '26.01.2021']\n",
        "event_labels = ['a', 'b', 'c', 'd']\n",
        "line_length = 0.95  # Adjust the length of the lines\n",
        "\n",
        "for event_date, event_label in zip(event_dates, event_labels):\n",
        "    event_date = pd.to_datetime(event_date, format='%d.%m.%Y')\n",
        "    ax1.axvline(event_date, color='gray', linestyle='--', linewidth=1, ymin=0, ymax=line_length)\n",
        "    ax1.text(event_date, ax1.get_ylim()[1] * 0.65, event_label, va='bottom', ha='center', color='gray')\n",
        "\n",
        "plt.tight_layout()\n",
        "plt.show()"
      ],
      "metadata": {
        "id": "0uFosAvDOi4_"
      },
      "id": "0uFosAvDOi4_",
      "execution_count": null,
      "outputs": []
    },
    {
      "cell_type": "markdown",
      "id": "9078eba8",
      "metadata": {
        "id": "9078eba8"
      },
      "source": [
        "#### plot 3: (c) level of group identity (shaded areas corresponds to two standard errors of the daily average)."
      ]
    },
    {
      "cell_type": "markdown",
      "id": "a8e90e84",
      "metadata": {
        "id": "a8e90e84"
      },
      "source": [
        "- To measure the group identity: for each submission, we calculated the fraction of the first person pronouns that are the plural pronoun “we”, and averaged those fractions across all the submissions of a given day\n",
        "-  we measure identity as the fraction of pronoun we against the number of both we and I pronouns occurring in each submission text body."
      ]
    },
    {
      "cell_type": "code",
      "execution_count": null,
      "id": "fa48d86b",
      "metadata": {
        "id": "fa48d86b",
        "outputId": "0a6c808f-5649-461c-940e-eb57fe567614"
      },
      "outputs": [
        {
          "data": {
            "text/plain": [
              "130096"
            ]
          },
          "execution_count": 30,
          "metadata": {},
          "output_type": "execute_result"
        }
      ],
      "source": [
        "removed_body = 0\n",
        "\n",
        "for entry in submissions_data:\n",
        "    body = entry.get('selftext')\n",
        "    if body == '[deleted]' or body == '[removed]' or body == '':\n",
        "        removed_body += 1\n",
        "\n",
        "removed_body"
      ]
    },
    {
      "cell_type": "code",
      "execution_count": null,
      "id": "a64634ac",
      "metadata": {
        "id": "a64634ac",
        "outputId": "da9f56b5-0216-4b29-c84a-020fe580b5fb"
      },
      "outputs": [
        {
          "data": {
            "text/plain": [
              "{'id': 'k1t3g8',\n",
              " 'author': 'ryancus123',\n",
              " 'author_flair_text': None,\n",
              " 'link_flair_css_class': None,\n",
              " 'num_comments': 58,\n",
              " 'selftext': 'This isn’t getting enough attention.....biggest short squeeze of ALL TIME coming soon. Get in now\\n\\n1,000 shares at 12.50',\n",
              " 'title': 'GameStop!!! 🚀 ✨ 🪐',\n",
              " 'retrieved_utc': 1623089108,\n",
              " 'url': 'https://www.reddit.com/r/wallstreetbets/comments/k1t3g8/gamestop/',\n",
              " 'created_utc': '2020-11-27T04:01:26',\n",
              " 'date': datetime.date(2020, 11, 27)}"
            ]
          },
          "execution_count": 31,
          "metadata": {},
          "output_type": "execute_result"
        }
      ],
      "source": [
        "submissions_data[5]"
      ]
    },
    {
      "cell_type": "code",
      "execution_count": null,
      "id": "a7022dc3",
      "metadata": {
        "id": "a7022dc3"
      },
      "outputs": [],
      "source": [
        "# Count occurrences of 'we' and 'I' in selftext\n",
        "\n",
        "pattern = r'\\bI\\b'\n",
        "\n",
        "\n",
        "for entry in submissions_data:\n",
        "    selftext = entry.get('selftext', '')  # Default to an empty string if selftext is not present\n",
        "\n",
        "    # Tokenize the selftext using the regular expression pattern\n",
        "    tokens = re.findall(pattern, selftext, flags=re.IGNORECASE)\n",
        "\n",
        "    # Count occurrences of 'we' and 'I'\n",
        "    we_count = selftext.lower().count('we')\n",
        "    i_count = len(tokens)\n",
        "\n",
        "    entry['we_n'] = we_count\n",
        "    entry['I_n'] = i_count\n",
        "\n",
        "    # Set we_n and I_n to 0 if no occurrences are found\n",
        "    if we_count == 0:\n",
        "        entry['we_n'] = 0\n",
        "    if i_count == 0:\n",
        "        entry['I_n'] = 0\n",
        "\n",
        "\n",
        "    if entry['we_n'] + entry['I_n'] != 0:\n",
        "        entry['identity'] = entry['we_n'] / (entry['we_n'] + entry['I_n'])\n",
        "    else:\n",
        "        entry['identity'] = 0"
      ]
    },
    {
      "cell_type": "code",
      "execution_count": null,
      "id": "7b68fcc9",
      "metadata": {
        "id": "7b68fcc9",
        "outputId": "263f7c03-2210-4e0d-edec-6af428220e56"
      },
      "outputs": [
        {
          "data": {
            "text/plain": [
              "4792"
            ]
          },
          "execution_count": 33,
          "metadata": {},
          "output_type": "execute_result"
        }
      ],
      "source": [
        "identity_not_null = 0\n",
        "\n",
        "for entry in submissions_data:\n",
        "    if entry['identity'] > 0:\n",
        "        identity_not_null += 1\n",
        "\n",
        "identity_not_null"
      ]
    },
    {
      "cell_type": "code",
      "execution_count": null,
      "id": "d756b6dc",
      "metadata": {
        "id": "d756b6dc"
      },
      "outputs": [],
      "source": [
        "date_identity_totals = {}\n",
        "date_identity_counts = {}\n",
        "\n",
        "for entry in submissions_data:\n",
        "    date = entry.get('date')\n",
        "    identity = entry.get('identity')\n",
        "\n",
        "    if date is not None and identity is not None:\n",
        "        if date not in date_identity_totals:\n",
        "            date_identity_totals[date] = 0\n",
        "            date_identity_counts[date] = 0\n",
        "\n",
        "        date_identity_totals[date] += identity\n",
        "        date_identity_counts[date] += 1"
      ]
    },
    {
      "cell_type": "code",
      "execution_count": null,
      "id": "136ad1e5",
      "metadata": {
        "id": "136ad1e5"
      },
      "outputs": [],
      "source": [
        "average_identity_data = [{'date': date, 'average_identity': total / count}\n",
        "                         for date in date_identity_totals.keys()\n",
        "                         for total, count in [(date_identity_totals[date], date_identity_counts[date])]\n",
        "                         if count > 0]"
      ]
    },
    {
      "cell_type": "code",
      "execution_count": null,
      "id": "a10b8bc7",
      "metadata": {
        "id": "a10b8bc7",
        "outputId": "79977925-bba1-4639-89ac-85454d57ec0e"
      },
      "outputs": [
        {
          "data": {
            "text/html": [
              "<div>\n",
              "<style scoped>\n",
              "    .dataframe tbody tr th:only-of-type {\n",
              "        vertical-align: middle;\n",
              "    }\n",
              "\n",
              "    .dataframe tbody tr th {\n",
              "        vertical-align: top;\n",
              "    }\n",
              "\n",
              "    .dataframe thead th {\n",
              "        text-align: right;\n",
              "    }\n",
              "</style>\n",
              "<table border=\"1\" class=\"dataframe\">\n",
              "  <thead>\n",
              "    <tr style=\"text-align: right;\">\n",
              "      <th></th>\n",
              "      <th>date</th>\n",
              "      <th>average_identity</th>\n",
              "    </tr>\n",
              "  </thead>\n",
              "  <tbody>\n",
              "    <tr>\n",
              "      <th>0</th>\n",
              "      <td>2020-11-27</td>\n",
              "      <td>0.088194</td>\n",
              "    </tr>\n",
              "    <tr>\n",
              "      <th>1</th>\n",
              "      <td>2020-11-28</td>\n",
              "      <td>0.135606</td>\n",
              "    </tr>\n",
              "    <tr>\n",
              "      <th>2</th>\n",
              "      <td>2020-11-29</td>\n",
              "      <td>0.058856</td>\n",
              "    </tr>\n",
              "    <tr>\n",
              "      <th>3</th>\n",
              "      <td>2020-11-30</td>\n",
              "      <td>0.040655</td>\n",
              "    </tr>\n",
              "    <tr>\n",
              "      <th>4</th>\n",
              "      <td>2020-12-01</td>\n",
              "      <td>0.091158</td>\n",
              "    </tr>\n",
              "    <tr>\n",
              "      <th>...</th>\n",
              "      <td>...</td>\n",
              "      <td>...</td>\n",
              "    </tr>\n",
              "    <tr>\n",
              "      <th>64</th>\n",
              "      <td>2021-01-30</td>\n",
              "      <td>0.012182</td>\n",
              "    </tr>\n",
              "    <tr>\n",
              "      <th>65</th>\n",
              "      <td>2021-01-31</td>\n",
              "      <td>0.008679</td>\n",
              "    </tr>\n",
              "    <tr>\n",
              "      <th>66</th>\n",
              "      <td>2021-02-01</td>\n",
              "      <td>0.008169</td>\n",
              "    </tr>\n",
              "    <tr>\n",
              "      <th>67</th>\n",
              "      <td>2021-02-02</td>\n",
              "      <td>0.019325</td>\n",
              "    </tr>\n",
              "    <tr>\n",
              "      <th>68</th>\n",
              "      <td>2021-02-03</td>\n",
              "      <td>0.000000</td>\n",
              "    </tr>\n",
              "  </tbody>\n",
              "</table>\n",
              "<p>69 rows × 2 columns</p>\n",
              "</div>"
            ],
            "text/plain": [
              "          date  average_identity\n",
              "0   2020-11-27          0.088194\n",
              "1   2020-11-28          0.135606\n",
              "2   2020-11-29          0.058856\n",
              "3   2020-11-30          0.040655\n",
              "4   2020-12-01          0.091158\n",
              "..         ...               ...\n",
              "64  2021-01-30          0.012182\n",
              "65  2021-01-31          0.008679\n",
              "66  2021-02-01          0.008169\n",
              "67  2021-02-02          0.019325\n",
              "68  2021-02-03          0.000000\n",
              "\n",
              "[69 rows x 2 columns]"
            ]
          },
          "execution_count": 36,
          "metadata": {},
          "output_type": "execute_result"
        }
      ],
      "source": [
        "average_identity_df = pd.DataFrame(average_identity_data)\n",
        "average_identity_df"
      ]
    },
    {
      "cell_type": "code",
      "execution_count": null,
      "id": "00d3fb91",
      "metadata": {
        "id": "00d3fb91",
        "outputId": "250dbabd-2b2f-485a-a514-5a1652a42a2e"
      },
      "outputs": [
        {
          "data": {
            "image/png": "[encoded data removed]",
            "text/plain": [
              "<Figure size 640x480 with 1 Axes>"
            ]
          },
          "metadata": {},
          "output_type": "display_data"
        }
      ],
      "source": [
        "plt.plot(average_identity_df['date'], average_identity_df['average_identity'], marker='',\n",
        "         linestyle='-', color='red', linewidth=1)\n",
        "plt.title('Group identity (Nov 27, 2020 - Feb 3, 2021)')\n",
        "plt.xlabel('Date')\n",
        "plt.ylabel('Group identity')\n",
        "\n",
        "plt.xticks(rotation=45)\n",
        "x_dates = pd.date_range(start='2020-12-01', end='2021-02-02', freq='7D')\n",
        "plt.xticks(x_dates, [date.strftime('%d.%m.%Y') for date in x_dates])\n",
        "\n",
        "plt.tight_layout()\n",
        "plt.show()"
      ]
    },
    {
      "cell_type": "code",
      "source": [
        "fig, ax1 = plt.subplots()\n",
        "\n",
        "# Plot the first data on the left y-axis\n",
        "ax1.plot(average_identity_df['date'], average_identity_df['average_identity'], marker='',\n",
        "         linestyle='-', color='red', linewidth=1)\n",
        "ax1.set_ylabel('Group identity', color='red')\n",
        "ax1.tick_params(axis='y', labelcolor='red')\n",
        "\n",
        "# Create a second y-axis on the left side\n",
        "ax2 = ax1.twinx()\n",
        "\n",
        "# Plot the second data on the right y-axis\n",
        "ax2.plot(filtered_prices['Date'], filtered_prices['daily_change'], marker='', linestyle='-', color='steelblue', linewidth=1)\n",
        "ax2.set_xlabel('Date')\n",
        "ax2.set_ylabel('GME Daily Relative Change', color='steelblue')\n",
        "ax2.tick_params(axis='y', labelcolor='steelblue')\n",
        "ax2.set_title('GME group identity (Nov 27, 2020 - Feb 3, 2021)')\n",
        "\n",
        "# Format x-axis ticks\n",
        "x_dates = pd.date_range(start='2020-12-01', end='2021-02-02', freq='7D')\n",
        "ax1.set_xticks(x_dates)\n",
        "ax1.set_xticklabels([date.strftime('%d.%m.%Y') for date in x_dates], rotation=45)\n",
        "\n",
        "# Add dashed lines for events with adjusted length\n",
        "event_dates = ['08.12.2020', '11.01.2021', '19.01.2021', '26.01.2021']\n",
        "event_labels = ['a', 'b', 'c', 'd']\n",
        "line_length = 0.95  # Adjust the length of the lines\n",
        "\n",
        "for event_date, event_label in zip(event_dates, event_labels):\n",
        "    event_date = pd.to_datetime(event_date, format='%d.%m.%Y')\n",
        "    ax1.axvline(event_date, color='gray', linestyle='--', linewidth=1, ymin=0, ymax=line_length)\n",
        "    ax1.text(event_date, ax1.get_ylim()[1] * line_length, event_label, va='bottom', ha='center', color='gray')\n",
        "\n",
        "\n",
        "plt.tight_layout()\n",
        "plt.show()"
      ],
      "metadata": {
        "id": "fqbewzNZOmHv"
      },
      "id": "fqbewzNZOmHv",
      "execution_count": null,
      "outputs": []
    },
    {
      "cell_type": "markdown",
      "source": [
        "#### plot 4: level of group identity on the base of rewards"
      ],
      "metadata": {
        "id": "JRV_axHCymKt"
      },
      "id": "JRV_axHCymKt"
    },
    {
      "cell_type": "code",
      "source": [
        "#Count awards\n",
        "awards = []\n",
        "\n",
        "for post in posts:\n",
        "    data = {}\n",
        "    if len(post['all_awardings']) != 0:\n",
        "        data['time'] = post['created_utc']\n",
        "        count = 0\n",
        "        for awardings in post['all_awardings']:\n",
        "            price = awardings['count']\n",
        "            count += price\n",
        "        data['price'] = count\n",
        "        awards.append(data)\n",
        "\n",
        "award = pd.DataFrame(awards)\n",
        "award['date'] = pd.to_datetime(award['time'])\n",
        "\n",
        "award['date'] = pd.to_datetime(award['date']).dt.date\n",
        "\n",
        "#group by date and count mean number of awards per post\n",
        "pivot = award.groupby('date')['price'].mean()\n",
        "pivot = pd.DataFrame(pivot).reset_index()"
      ],
      "metadata": {
        "id": "8aVowDCNyXGa"
      },
      "id": "8aVowDCNyXGa",
      "execution_count": null,
      "outputs": []
    },
    {
      "cell_type": "code",
      "source": [
        "fig, ax1 = plt.subplots()\n",
        "\n",
        "plt.yscale('log')\n",
        "\n",
        "# Plot the first data on the left y-axis\n",
        "ax1.plot(pivot['date'], pivot['price'], marker='',\n",
        "         linestyle='-', color='steelblue', linewidth=1, alpha=0.7)\n",
        "ax1.set_ylabel('Awerage number of awards per post', color='steelblue', fontsize=10)\n",
        "ax1.tick_params(axis='y', labelcolor='steelblue')\n",
        "\n",
        "# Create a second y-axis on the left side\n",
        "ax2 = ax1.twinx()\n",
        "\n",
        "# Plot the second data on the right y-axis\n",
        "ax2.plot(filtered_prices['Date'], filtered_prices['daily_change'], marker='', linestyle='dotted', color='black', linewidth=1)\n",
        "ax2.set_xlabel('Date')\n",
        "ax2.set_ylabel('GME Daily Change', color='black', fontsize=10)\n",
        "ax2.tick_params(axis='y', labelcolor='black')\n",
        "ax2.set_title('GME group identity (Nov 27, 2020 - Feb 3, 2021)', pad=15)\n",
        "\n",
        "# Format x-axis ticks\n",
        "x_dates = pd.date_range(start='2020-12-01', end='2021-02-02', freq='7D')\n",
        "ax1.set_xticks(x_dates)\n",
        "ax1.set_xticklabels([date.strftime('%d.%m.%Y') for date in x_dates], rotation=45)\n",
        "\n",
        "# Add dashed lines for events with adjusted length\n",
        "event_dates = ['08.12.2020', '11.01.2021', '19.01.2021', '26.01.2021']\n",
        "event_labels = ['a', 'b', 'c', 'd']\n",
        "line_length = 0.95  # Adjust the length of the lines\n",
        "\n",
        "for event_date, event_label in zip(event_dates, event_labels):\n",
        "    event_date = pd.to_datetime(event_date, format='%d.%m.%Y')\n",
        "    ax1.axvline(event_date, color='gray', linestyle='--', linewidth=1, ymin=0, ymax=line_length)\n",
        "    ax1.text(event_date, ax1.get_ylim()[1] * line_length, event_label, va='bottom', ha='center', color='gray')\n",
        "\n",
        "\n",
        "plt.tight_layout()\n",
        "plt.show();"
      ],
      "metadata": {
        "colab": {
          "base_uri": "https://localhost:8080/",
          "height": 508
        },
        "id": "12Ks6epN0lAW",
        "outputId": "6ffa0a49-c166-4b21-9141-6cc6e62495b9"
      },
      "id": "12Ks6epN0lAW",
      "execution_count": null,
      "outputs": [
        {
          "output_type": "display_data",
          "data": {
            "text/plain": [
              "<Figure size 640x480 with 2 Axes>"
            ],
            "image/png": "[encoded data removed]"
          },
          "metadata": {}
        }
      ]
    },
    {
      "cell_type": "markdown",
      "id": "b40c93aa",
      "metadata": {
        "id": "b40c93aa"
      },
      "source": [
        "# 3 Building Network"
      ]
    },
    {
      "cell_type": "code",
      "source": [
        "with open('output2.json', 'r') as f:\n",
        "    posts = json.load(f)\n",
        "\n",
        "with open('filtered_comments.json', 'r') as f:\n",
        "    comments = json.load(f)\n",
        "\n",
        "for d in comments:\n",
        "    if 'parent_id' in d:\n",
        "        d['parent_id'] = d['parent_id'][3:]\n",
        "        d['link_id'] = d['link_id'][3:]\n",
        "\n",
        "for post in comments:\n",
        "    try:\n",
        "        utc_timestamp = int(post['created_utc'])  # Try to convert to integer\n",
        "        post['created_utc'] = datetime.fromtimestamp(utc_timestamp).strftime('%Y-%m-%d %H:%M:%S')\n",
        "    except ValueError:  # Skip if conversion fails\n",
        "        pass\n",
        "\n",
        "    post['created_utc'] = datetime.strptime(post['created_utc'], '%Y-%m-%d %H:%M:%S')\n",
        "\n",
        "start_date = datetime(2020, 11, 27, 0, 0, 0)\n",
        "end_date = datetime(2021, 2, 3, 23, 59, 59)\n",
        "\n",
        "comments = [item for item in comments if start_date <= item['created_utc'] <= end_date]\n",
        "\n",
        "comments = sorted(comments, key=lambda x: x['created_utc'])"
      ],
      "metadata": {
        "id": "Fq0YtANklb23"
      },
      "id": "Fq0YtANklb23",
      "execution_count": null,
      "outputs": []
    },
    {
      "cell_type": "markdown",
      "source": [
        "## 3.1 The whole network"
      ],
      "metadata": {
        "id": "4-NPhVPjlkd_"
      },
      "id": "4-NPhVPjlkd_"
    },
    {
      "cell_type": "code",
      "source": [
        "G = nx.DiGraph()\n",
        "\n",
        "# Create a dictionary for fast lookup\n",
        "post_dict = {d['id']: d for d in posts}\n",
        "comment_dict = {d['id']: d for d in comments}\n",
        "\n",
        "for comment in comments:\n",
        "    author = comment['author']\n",
        "    parent_id = comment['parent_id']\n",
        "\n",
        "    # Efficiently find parent comment or post\n",
        "    parent_comment = post_dict.get(parent_id, comment_dict.get(parent_id, None))\n",
        "\n",
        "    if parent_comment is None:\n",
        "        print(f\"Parent not found for id {parent_id}\")\n",
        "        continue\n",
        "\n",
        "    author_parent = parent_comment['author']\n",
        "\n",
        "    # Add nodes and edge\n",
        "    G.add_node(author)\n",
        "    G.add_node(author_parent)\n",
        "    G.add_edge(author, author_parent)"
      ],
      "metadata": {
        "id": "Bx8lojCSlmaw"
      },
      "id": "Bx8lojCSlmaw",
      "execution_count": null,
      "outputs": []
    },
    {
      "cell_type": "code",
      "source": [
        "G.number_of_nodes()"
      ],
      "metadata": {
        "id": "ZeUSGtI7lo8b"
      },
      "id": "ZeUSGtI7lo8b",
      "execution_count": null,
      "outputs": []
    },
    {
      "cell_type": "code",
      "source": [
        "G.number_of_edges()"
      ],
      "metadata": {
        "id": "DkXefYfXlqfI"
      },
      "id": "DkXefYfXlqfI",
      "execution_count": null,
      "outputs": []
    },
    {
      "cell_type": "markdown",
      "source": [
        "## 3.2 Window of 3000 nodes"
      ],
      "metadata": {
        "id": "_pAJFlAIlt1g"
      },
      "id": "_pAJFlAIlt1g"
    },
    {
      "cell_type": "markdown",
      "source": [
        "## 3.3 Slice Jan 8-12"
      ],
      "metadata": {
        "id": "wixSXEiHlzHM"
      },
      "id": "wixSXEiHlzHM"
    },
    {
      "cell_type": "code",
      "source": [
        "# Define the target date and time range\n",
        "start_date = datetime.strptime('2021-01-08', '%Y-%m-%d').date()\n",
        "end_date = datetime.strptime('2021-01-12', '%Y-%m-%d').date()\n",
        "start_time = time(1, 0)\n",
        "end_time = time(18, 0)\n",
        "\n",
        "filtered_comments = []\n",
        "\n",
        "for post in comments:\n",
        "    created_utc = post['created_utc']\n",
        "\n",
        "    if not isinstance(created_utc, datetime):\n",
        "        try:\n",
        "            # Try the first format\n",
        "            created_utc = datetime.strptime(post['created_utc'], '%Y-%m-%d %H:%M:%S')\n",
        "        except ValueError:\n",
        "            try:\n",
        "                # Try the second format\n",
        "                created_utc = datetime.strptime(post['created_utc'], '%Y-%m-%dT%H:%M:%S')\n",
        "            except ValueError:\n",
        "                # Handle other errors, such as skipping the item or raising an error\n",
        "                print(f\"Unknown datetime format for {post['created_utc']}\")\n",
        "                continue\n",
        "\n",
        "    # Extract date and time\n",
        "    post_date = created_utc.date()\n",
        "    post_time = created_utc.time()\n",
        "\n",
        "    # Check if the post falls within the target date and time range\n",
        "    if start_date <= post_date <= end_date and start_time <= post_time <= end_time:\n",
        "        filtered_comments.append(post)"
      ],
      "metadata": {
        "id": "MdNIiQC0tcCd"
      },
      "id": "MdNIiQC0tcCd",
      "execution_count": null,
      "outputs": []
    },
    {
      "cell_type": "code",
      "source": [
        "# Visualisation with Networkx\n",
        "G = nx.Graph()\n",
        "\n",
        "# Create a dictionary for fast lookup\n",
        "post_dict = {d['id']: d for d in posts}\n",
        "comment_dict = {d['id']: d for d in comments}\n",
        "\n",
        "for comment in filtered_comments:\n",
        "    author = comment['author']\n",
        "    parent_id = comment['parent_id']\n",
        "\n",
        "    # Efficiently find parent comment or post\n",
        "    parent_comment = post_dict.get(parent_id, comment_dict.get(parent_id, None))\n",
        "\n",
        "    if parent_comment is None:\n",
        "        print(f\"Parent not found for id {parent_id}\")\n",
        "        continue\n",
        "\n",
        "    author_parent = parent_comment['author']\n",
        "\n",
        "    # Determine node color based on link_flair_css_class\n",
        "    flair_class = parent_comment.get('link_flair_css_class', None)\n",
        "    if flair_class in ['profit', 'loss', 'yolo']:\n",
        "        node_color = 'red'\n",
        "    else:\n",
        "        node_color = 'lightgray'\n",
        "\n",
        "    G.add_node(author, color='lightgray')\n",
        "    G.add_node(author_parent, color=node_color)  # Note: This will overwrite the color if the node already exists\n",
        "    G.add_edge(author, author_parent)\n",
        "\n",
        "# Remove self-loops from the graph if they exist\n",
        "G.remove_edges_from(nx.selfloop_edges(G))\n",
        "\n",
        "# Calculate the k-shell value for each node\n",
        "k_shell = nx.core_number(G)\n",
        "\n",
        "# Create a mapping of node sizes based on k-shell values\n",
        "node_sizes = [2**k_shell[node] for node in G.nodes()]"
      ],
      "metadata": {
        "id": "zd2tsxyG7eof"
      },
      "id": "zd2tsxyG7eof",
      "execution_count": null,
      "outputs": []
    },
    {
      "cell_type": "code",
      "source": [
        "# Create a new figure\n",
        "fig, ax = plt.subplots(figsize=(10, 10))\n",
        "\n",
        "# Draw the graph with spring_layout\n",
        "pos = nx.spring_layout(G, k=0.05)\n",
        "\n",
        "# Separate red and non-red nodes\n",
        "red_nodes = [node for node, data in G.nodes(data=True) if data.get('color') == 'red']\n",
        "non_red_nodes = [node for node, data in G.nodes(data=True) if data.get('color') != 'red']\n",
        "\n",
        "#set size\n",
        "red_sizes = [2**k_shell[node] for node in red_nodes]\n",
        "non_red_sizes = [2**k_shell[node] for node in non_red_nodes]\n",
        "\n",
        "# Draw non-red nodes first\n",
        "nx.draw_networkx_nodes(\n",
        "    G,\n",
        "    pos,\n",
        "    nodelist=non_red_nodes,\n",
        "    node_color='lightgray',\n",
        "    node_size=non_red_sizes,\n",
        "    ax=ax\n",
        ")\n",
        "\n",
        "# Draw red nodes on top\n",
        "nx.draw_networkx_nodes(\n",
        "    G,\n",
        "    pos,\n",
        "    nodelist=red_nodes,\n",
        "    node_color='firebrick',\n",
        "    node_size=red_sizes,\n",
        "    ax=ax\n",
        ")\n",
        "\n",
        "# Draw edges\n",
        "nx.draw_networkx_edges(G, pos, edge_color='gray', alpha=0.5, width=0.3, ax=ax)\n",
        "ax.collections[0].set_edgecolor(\"darkgray\")\n",
        "\n",
        "# Remove the border of the plot\n",
        "ax.spines['top'].set_visible(False)\n",
        "ax.spines['right'].set_visible(False)\n",
        "ax.spines['bottom'].set_visible(False)\n",
        "ax.spines['left'].set_visible(False)\n",
        "\n",
        "# Show the graph\n",
        "plt.show();"
      ],
      "metadata": {
        "id": "ghA3-t218IK-"
      },
      "id": "ghA3-t218IK-",
      "execution_count": null,
      "outputs": []
    },
    {
      "cell_type": "code",
      "source": [
        "# Visualisation with pyvis\n",
        "G = nx.DiGraph()\n",
        "\n",
        "# Create a dictionary for fast lookup\n",
        "post_dict = {d['id']: d for d in posts}\n",
        "comment_dict = {d['id']: d for d in comments}\n",
        "\n",
        "for comment in filtered_comments:\n",
        "    author = comment['author']\n",
        "    parent_id = comment['parent_id']\n",
        "\n",
        "    # Efficiently find parent comment or post\n",
        "    parent_comment = post_dict.get(parent_id, comment_dict.get(parent_id, None))\n",
        "\n",
        "    if parent_comment is None:\n",
        "        print(f\"Parent not found for id {parent_id}\")\n",
        "        continue\n",
        "\n",
        "    author_parent = parent_comment['author']\n",
        "\n",
        "    # Determine node color based on link_flair_css_class\n",
        "    flair_class = parent_comment.get('link_flair_css_class', None)\n",
        "    if flair_class in ['profit', 'loss', 'yolo']:\n",
        "        node_color = 'red'\n",
        "    else:\n",
        "        node_color = 'grey'\n",
        "\n",
        "    G.add_node(author, color={'border': 'darkgrey', 'background': 'grey'})\n",
        "    G.add_node(author_parent, color={'border': 'darkgrey', 'background': node_color})  # Note: This will overwrite the color if the node already exists\n",
        "    G.add_edge(author, author_parent)\n",
        "\n",
        "# Remove self-loops from the graph if they exist\n",
        "G.remove_edges_from(nx.selfloop_edges(G))\n",
        "\n",
        "# Calculate the k-shell value for each node\n",
        "k_shell = nx.core_number(G)\n",
        "\n",
        "# Add the k-shell values as attributes to the nodes\n",
        "nx.set_node_attributes(G, k_shell, 'value')\n",
        "\n",
        "# Determine the maximum k-shell value in the graph\n",
        "max_k_shell = max(k_shell.values())\n",
        "\n",
        "# Define a scaling factor for node size\n",
        "size_scale = 4  # You can adjust this value based on your preferences\n",
        "\n",
        "# Create a mapping of node sizes based on k-shell values\n",
        "node_sizes = [size_scale * (max_k_shell - k_shell[node] + 1) for node in G.nodes()]"
      ],
      "metadata": {
        "id": "j9N4Tne_td-8"
      },
      "id": "j9N4Tne_td-8",
      "execution_count": null,
      "outputs": []
    },
    {
      "cell_type": "code",
      "source": [
        "net = Network(notebook=True)\n",
        "net.from_nx(G)\n",
        "net.show('example1.html')"
      ],
      "metadata": {
        "id": "a3Le6sd-tjUa"
      },
      "id": "a3Le6sd-tjUa",
      "execution_count": null,
      "outputs": []
    },
    {
      "cell_type": "markdown",
      "source": [
        "## 3.4 Slice Jan 21, 16h-17h"
      ],
      "metadata": {
        "id": "HQwx0YEetmjS"
      },
      "id": "HQwx0YEetmjS"
    },
    {
      "cell_type": "code",
      "source": [
        "# Define the target date and time range\n",
        "start_date = datetime.strptime('2021-01-21', '%Y-%m-%d').date()\n",
        "end_date = datetime.strptime('2021-01-21', '%Y-%m-%d').date()\n",
        "start_time = time(16, 0)\n",
        "end_time = time(17, 30)\n",
        "\n",
        "filtered_comments = []\n",
        "\n",
        "for post in comments:\n",
        "    created_utc = post['created_utc']\n",
        "\n",
        "    if not isinstance(created_utc, datetime):\n",
        "        try:\n",
        "            # Try the first format\n",
        "            created_utc = datetime.strptime(post['created_utc'], '%Y-%m-%d %H:%M:%S')\n",
        "        except ValueError:\n",
        "            try:\n",
        "                # Try the second format\n",
        "                created_utc = datetime.strptime(post['created_utc'], '%Y-%m-%dT%H:%M:%S')\n",
        "            except ValueError:\n",
        "                # Handle other errors, such as skipping the item or raising an error\n",
        "                print(f\"Unknown datetime format for {post['created_utc']}\")\n",
        "                continue\n",
        "\n",
        "    # Extract date and time\n",
        "    post_date = created_utc.date()\n",
        "    post_time = created_utc.time()\n",
        "\n",
        "    # Check if the post falls within the target date and time range\n",
        "    if start_date <= post_date <= end_date and start_time <= post_time <= end_time:\n",
        "        filtered_comments.append(post)"
      ],
      "metadata": {
        "id": "L7fe1cA5tvym"
      },
      "id": "L7fe1cA5tvym",
      "execution_count": null,
      "outputs": []
    },
    {
      "cell_type": "code",
      "source": [
        "G = nx.DiGraph()\n",
        "\n",
        "# Create a dictionary for fast lookup\n",
        "post_dict = {d['id']: d for d in posts}\n",
        "comment_dict = {d['id']: d for d in comments}\n",
        "\n",
        "for comment in filtered_comments:\n",
        "    author = comment['author']\n",
        "    parent_id = comment['parent_id']\n",
        "\n",
        "    # Efficiently find parent comment or post\n",
        "    parent_comment = post_dict.get(parent_id, comment_dict.get(parent_id, None))\n",
        "\n",
        "    if parent_comment is None:\n",
        "        print(f\"Parent not found for id {parent_id}\")\n",
        "        continue\n",
        "\n",
        "    author_parent = parent_comment['author']\n",
        "\n",
        "    # Determine node color based on link_flair_css_class\n",
        "    flair_class = parent_comment.get('link_flair_css_class', None)\n",
        "    if flair_class in ['profit', 'loss', 'yolo']:\n",
        "        node_color = 'red'\n",
        "    else:\n",
        "        node_color = 'grey'\n",
        "\n",
        "    G.add_node(author, color={'border': 'darkgrey', 'background': 'grey'})\n",
        "    G.add_node(author_parent, color={'border': 'darkgrey', 'background': node_color})  # Note: This will overwrite the color if the node already exists\n",
        "    G.add_edge(author, author_parent)\n",
        "\n",
        "# Remove self-loops from the graph if they exist\n",
        "G.remove_edges_from(nx.selfloop_edges(G))\n",
        "\n",
        "# Calculate the k-shell value for each node\n",
        "k_shell = nx.core_number(G)\n",
        "\n",
        "# Add the k-shell values as attributes to the nodes\n",
        "nx.set_node_attributes(G, k_shell, 'value')\n",
        "\n",
        "# Determine the maximum k-shell value in the graph\n",
        "max_k_shell = max(k_shell.values())\n",
        "\n",
        "# Define a scaling factor for node size\n",
        "size_scale = 4  # You can adjust this value based on your preferences\n",
        "\n",
        "# Create a mapping of node sizes based on k-shell values\n",
        "node_sizes = [size_scale * (max_k_shell - k_shell[node] + 1) for node in G.nodes()]"
      ],
      "metadata": {
        "id": "6RlBg8NWt1-o"
      },
      "id": "6RlBg8NWt1-o",
      "execution_count": null,
      "outputs": []
    },
    {
      "cell_type": "code",
      "source": [
        "net = Network(notebook=True)\n",
        "net.from_nx(G)\n",
        "net.show('example.html')"
      ],
      "metadata": {
        "id": "2KHmxv9Lt4p6"
      },
      "id": "2KHmxv9Lt4p6",
      "execution_count": null,
      "outputs": []
    },
    {
      "cell_type": "markdown",
      "source": [
        "## 3.5 Slice Jan 23, 8h-14h"
      ],
      "metadata": {
        "id": "ar-WruWemQR7"
      },
      "id": "ar-WruWemQR7"
    },
    {
      "cell_type": "code",
      "source": [
        "# Define the target date and time range\n",
        "start_date = datetime.strptime('2021-01-23', '%Y-%m-%d').date()\n",
        "end_date = datetime.strptime('2021-01-23', '%Y-%m-%d').date()\n",
        "start_time = time(8, 0)\n",
        "end_time = time(14, 30)\n",
        "\n",
        "filtered_comments = []\n",
        "\n",
        "for post in comments:  # Assuming 'comments' is a list of dictionaries containing 'created_utc'\n",
        "    # Ensure the 'created_utc' is a datetime object, convert it if it's a string or timestamp\n",
        "    created_utc = post['created_utc']\n",
        "\n",
        "    if not isinstance(created_utc, datetime):\n",
        "        try:\n",
        "            # Try the first format\n",
        "            created_utc = datetime.strptime(post['created_utc'], '%Y-%m-%d %H:%M:%S')\n",
        "        except ValueError:\n",
        "            try:\n",
        "                # Try the second format\n",
        "                created_utc = datetime.strptime(post['created_utc'], '%Y-%m-%dT%H:%M:%S')\n",
        "            except ValueError:\n",
        "                # Handle other errors, such as skipping the item or raising an error\n",
        "                print(f\"Unknown datetime format for {post['created_utc']}\")\n",
        "                continue\n",
        "\n",
        "    # Extract date and time\n",
        "    post_date = created_utc.date()\n",
        "    post_time = created_utc.time()\n",
        "\n",
        "    # Check if the post falls within the target date and time range\n",
        "    if start_date <= post_date <= end_date and start_time <= post_time <= end_time:\n",
        "        filtered_comments.append(post)"
      ],
      "metadata": {
        "id": "nqArUtugt8ai"
      },
      "id": "nqArUtugt8ai",
      "execution_count": null,
      "outputs": []
    },
    {
      "cell_type": "code",
      "source": [
        "G = nx.DiGraph()\n",
        "\n",
        "# Create a dictionary for fast lookup\n",
        "post_dict = {d['id']: d for d in posts}\n",
        "comment_dict = {d['id']: d for d in comments}\n",
        "\n",
        "for comment in filtered_comments:\n",
        "    author = comment['author']\n",
        "    parent_id = comment['parent_id']\n",
        "\n",
        "    # Efficiently find parent comment or post\n",
        "    parent_comment = post_dict.get(parent_id, comment_dict.get(parent_id, None))\n",
        "\n",
        "    if parent_comment is None:\n",
        "        print(f\"Parent not found for id {parent_id}\")\n",
        "        continue\n",
        "\n",
        "    author_parent = parent_comment['author']\n",
        "\n",
        "    # Determine node color based on link_flair_css_class\n",
        "    flair_class = parent_comment.get('link_flair_css_class', None)\n",
        "    if flair_class in ['profit', 'loss', 'yolo']:\n",
        "        node_color = 'red'\n",
        "    else:\n",
        "        node_color = 'grey'\n",
        "\n",
        "    G.add_node(author, color={'border': 'darkgrey', 'background': 'grey'})\n",
        "    G.add_node(author_parent, color={'border': 'darkgrey', 'background': node_color})  # Note: This will overwrite the color if the node already exists\n",
        "    G.add_edge(author, author_parent)\n",
        "\n",
        "# Remove self-loops from the graph if they exist\n",
        "G.remove_edges_from(nx.selfloop_edges(G))\n",
        "\n",
        "# Calculate the k-shell value for each node\n",
        "k_shell = nx.core_number(G)\n",
        "\n",
        "# Add the k-shell values as attributes to the nodes\n",
        "nx.set_node_attributes(G, k_shell, 'value')\n",
        "\n",
        "# Determine the maximum k-shell value in the graph\n",
        "max_k_shell = max(k_shell.values())\n",
        "\n",
        "# Define a scaling factor for node size\n",
        "size_scale = 4  # You can adjust this value based on your preferences\n",
        "\n",
        "# Create a mapping of node sizes based on k-shell values\n",
        "node_sizes = [size_scale * (max_k_shell - k_shell[node] + 1) for node in G.nodes()]"
      ],
      "metadata": {
        "id": "hyRkwE9Ft-kZ"
      },
      "id": "hyRkwE9Ft-kZ",
      "execution_count": null,
      "outputs": []
    },
    {
      "cell_type": "code",
      "source": [
        "net = Network(notebook=True)\n",
        "net.from_nx(G)\n",
        "net.show('example.html')"
      ],
      "metadata": {
        "id": "YcRTheF9uCJ2"
      },
      "id": "YcRTheF9uCJ2",
      "execution_count": null,
      "outputs": []
    },
    {
      "cell_type": "markdown",
      "source": [
        "## 4. Metrics"
      ],
      "metadata": {
        "id": "Y-Jq9jPTuJFl"
      },
      "id": "Y-Jq9jPTuJFl"
    },
    {
      "cell_type": "code",
      "source": [
        "# Prepare data\n",
        "G = nx.DiGraph()\n",
        "reciprocity = []\n",
        "heterogeneity_1 = []\n",
        "heterogeneity_2 = []\n",
        "average_degrees = []\n",
        "data = []\n",
        "\n",
        "post_dict = {d['id']: d for d in posts}\n",
        "comment_dict = {d['id']: d for d in comments}\n",
        "\n",
        "first_date = comments[0]['created_utc']\n",
        "last_date = comments[-1]['created_utc']\n",
        "next_date = first_date\n",
        "\n",
        "current_date = first_date\n",
        "\n",
        "while next_date <= last_date:\n",
        "    next_date = current_date + timedelta(days=7)\n",
        "\n",
        "    # Efficient slicing using list comprehensions\n",
        "    comments_in_window = [comment for comment in comments if current_date <= comment['created_utc'] < next_date]\n",
        "\n",
        "    edges_to_add = []\n",
        "\n",
        "    for comment in comments_in_window:\n",
        "        author = comment['author']\n",
        "        parent_id = comment['parent_id']\n",
        "\n",
        "        parent_comment = post_dict.get(parent_id, comment_dict.get(parent_id, None))\n",
        "\n",
        "        if parent_comment is None:\n",
        "            print(f\"Parent not found for id {parent_id}\")\n",
        "            continue\n",
        "\n",
        "        author_parent = parent_comment['author']\n",
        "        edges_to_add.append((author, author_parent))\n",
        "\n",
        "    G.add_edges_from(edges_to_add)\n",
        "\n",
        "    # Check if the graph is not empty\n",
        "\n",
        "    if len(G) > 0:\n",
        "        reciprocity.append(nx.reciprocity(G))\n",
        "\n",
        "        total_degree = sum(dict(G.degree()).values())\n",
        "        average_degree = total_degree / len(G)\n",
        "        average_degrees.append(average_degree)\n",
        "\n",
        "        degrees = np.array([d for n, d in G.degree()])\n",
        "        N = len(degrees)\n",
        "\n",
        "        if N > 0:  # Check to prevent division by zero\n",
        "            first_moment = np.mean(degrees)\n",
        "            second_moment = np.mean(degrees ** 2)\n",
        "            kappa = second_moment / (first_moment ** 2)\n",
        "            heterogeneity_1.append(kappa)\n",
        "            heterogeneity_2.append(np.var(degrees)/(first_moment ** 2))\n",
        "\n",
        "    data.append(next_date)\n",
        "    G.clear()\n",
        "\n",
        "    # Move to the next 1-day window\n",
        "    current_date = current_date + timedelta(days=1)"
      ],
      "metadata": {
        "id": "wigoYsESueHC"
      },
      "id": "wigoYsESueHC",
      "execution_count": null,
      "outputs": []
    },
    {
      "cell_type": "code",
      "source": [
        "rolling_window = 2  # 7-day rolling window\n",
        "df = pd.DataFrame({'reciprocity': reciprocity, 'heterogeneity_1': heterogeneity_1, 'heterogeneity_2': heterogeneity_2, 'date': data, 'log_heterogeneity_2': np.log(heterogeneity_2), 'average_degrees': average_degrees})\n",
        "df.set_index('date', inplace=True)\n",
        "rolling_mean = df.rolling(window=rolling_window).mean()\n",
        "rolling_std = df.rolling(window=rolling_window).std()\n",
        "\n",
        "upper_bound = rolling_mean + 2 * rolling_std\n",
        "lower_bound = rolling_mean - 2 * rolling_std"
      ],
      "metadata": {
        "id": "OUnlRR0kuyqK"
      },
      "id": "OUnlRR0kuyqK",
      "execution_count": null,
      "outputs": []
    },
    {
      "cell_type": "code",
      "source": [
        "lower = lower_bound['reciprocity']\n",
        "upper = upper_bound['reciprocity']\n",
        "\n",
        "plt.plot(data, reciprocity)\n",
        "ax1 = plt.gca()  # Get current axis\n",
        "\n",
        "# Adding shaded area for 2 standard deviations around the mean\n",
        "plt.fill_between(data, lower, upper, color='lightblue', alpha=0.5)\n",
        "\n",
        "# Add dashed lines for events with adjusted length\n",
        "event_dates = ['08.12.2020', '11.01.2021', '19.01.2021', '26.01.2021']\n",
        "event_labels = ['a', 'b', 'c', 'd']\n",
        "line_length = 0.90\n",
        "\n",
        "for event_date, event_label in zip(event_dates, event_labels):\n",
        "    event_date = pd.to_datetime(event_date, format='%d.%m.%Y')\n",
        "    ax1.axvline(event_date, color='gray', linestyle='--', linewidth=1, ymin=0, ymax=line_length)\n",
        "    ax1.text(event_date, ax1.get_ylim()[1] * 0.97, event_label, va='bottom', ha='center', color='black')\n",
        "\n",
        "plt.xticks(rotation=45)\n",
        "plt.show()"
      ],
      "metadata": {
        "id": "8nd9P1Ubu0wW"
      },
      "id": "8nd9P1Ubu0wW",
      "execution_count": null,
      "outputs": []
    },
    {
      "cell_type": "code",
      "source": [
        "lower = lower_bound['heterogeneity_1']\n",
        "upper = upper_bound['heterogeneity_1']\n",
        "\n",
        "plt.plot(data, heterogeneity_1, color = 'red')\n",
        "ax1 = plt.gca()  # Get current axis\n",
        "\n",
        "# Adding shaded area for 2 standard deviations around the mean\n",
        "plt.fill_between(data, lower, upper, color='#FF8080', alpha=0.5)\n",
        "\n",
        "# Add dashed lines for events with adjusted length\n",
        "event_dates = ['08.12.2020', '11.01.2021', '19.01.2021', '26.01.2021']\n",
        "event_labels = ['a', 'b', 'c', 'd']\n",
        "line_length = 0.90\n",
        "\n",
        "for event_date, event_label in zip(event_dates, event_labels):\n",
        "    event_date = pd.to_datetime(event_date, format='%d.%m.%Y')\n",
        "    ax1.axvline(event_date, color='gray', linestyle='--', linewidth=1, ymin=0, ymax=line_length)\n",
        "    ax1.text(event_date, ax1.get_ylim()[1] * 0.92, event_label, va='bottom', ha='center', color='black')\n",
        "\n",
        "plt.xticks(rotation=45)\n",
        "plt.show()"
      ],
      "metadata": {
        "id": "kkV4x8WPu3e6"
      },
      "id": "kkV4x8WPu3e6",
      "execution_count": null,
      "outputs": []
    },
    {
      "cell_type": "code",
      "source": [
        "lower = lower_bound['heterogeneity_2']\n",
        "upper = upper_bound['heterogeneity_2']\n",
        "\n",
        "plt.plot(data, heterogeneity_2, color = 'red')\n",
        "ax1 = plt.gca()  # Get current axis\n",
        "\n",
        "# Adding shaded area for 2 standard deviations around the mean\n",
        "plt.fill_between(data, lower, upper, color='#FF8080', alpha=0.5)\n",
        "\n",
        "# Add dashed lines for events with adjusted length\n",
        "event_dates = ['08.12.2020', '11.01.2021', '19.01.2021', '26.01.2021']\n",
        "event_labels = ['a', 'b', 'c', 'd']\n",
        "line_length = 0.90\n",
        "\n",
        "for event_date, event_label in zip(event_dates, event_labels):\n",
        "    event_date = pd.to_datetime(event_date, format='%d.%m.%Y')\n",
        "    ax1.axvline(event_date, color='gray', linestyle='--', linewidth=1, ymin=0, ymax=line_length)\n",
        "    ax1.text(event_date, ax1.get_ylim()[1] * 0.92, event_label, va='bottom', ha='center', color='black')\n",
        "\n",
        "plt.xticks(rotation=45)\n",
        "plt.show()"
      ],
      "metadata": {
        "id": "qtj9P5uqu6qU"
      },
      "id": "qtj9P5uqu6qU",
      "execution_count": null,
      "outputs": []
    },
    {
      "cell_type": "code",
      "source": [
        "lower = lower_bound['log_heterogeneity_2']\n",
        "upper = upper_bound['log_heterogeneity_2']\n",
        "\n",
        "plt.plot(data, np.log(heterogeneity_2), color = 'red')\n",
        "ax1 = plt.gca()  # Get current axis\n",
        "\n",
        "# Adding shaded area for 2 standard deviations around the mean\n",
        "plt.fill_between(data, lower, upper, color='#FF8080', alpha=0.5)\n",
        "\n",
        "# Add dashed lines for events with adjusted length\n",
        "event_dates = ['08.12.2020', '11.01.2021', '19.01.2021', '26.01.2021']\n",
        "event_labels = ['a', 'b', 'c', 'd']\n",
        "line_length = 0.90\n",
        "\n",
        "for event_date, event_label in zip(event_dates, event_labels):\n",
        "    event_date = pd.to_datetime(event_date, format='%d.%m.%Y')\n",
        "    ax1.axvline(event_date, color='gray', linestyle='--', linewidth=1, ymin=0, ymax=line_length)\n",
        "    ax1.text(event_date, ax1.get_ylim()[1] * 0.92, event_label, va='bottom', ha='center', color='black')\n",
        "\n",
        "plt.xticks(rotation=45)\n",
        "plt.show()"
      ],
      "metadata": {
        "id": "rNKPc3K_u95X"
      },
      "id": "rNKPc3K_u95X",
      "execution_count": null,
      "outputs": []
    },
    {
      "cell_type": "code",
      "source": [
        "lower = lower_bound['average_degrees']\n",
        "upper = upper_bound['average_degrees']\n",
        "\n",
        "plt.plot(data, average_degrees, color = 'purple')\n",
        "ax1 = plt.gca()  # Get current axis\n",
        "\n",
        "# Adding shaded area for 2 standard deviations around the mean\n",
        "plt.fill_between(data, lower, upper, color='#AB82FF', alpha=0.5)\n",
        "\n",
        "# Add dashed lines for events with adjusted length\n",
        "event_dates = ['08.12.2020', '11.01.2021', '19.01.2021', '26.01.2021']\n",
        "event_labels = ['a', 'b', 'c', 'd']\n",
        "line_length = 0.90\n",
        "\n",
        "for event_date, event_label in zip(event_dates, event_labels):\n",
        "    event_date = pd.to_datetime(event_date, format='%d.%m.%Y')\n",
        "    ax1.axvline(event_date, color='gray', linestyle='--', linewidth=1, ymin=0, ymax=line_length)\n",
        "    ax1.text(event_date, ax1.get_ylim()[1] * 0.92, event_label, va='bottom', ha='center', color='black')\n",
        "\n",
        "plt.xticks(rotation=45)\n",
        "plt.show()"
      ],
      "metadata": {
        "id": "KDfSHiUyvBn_"
      },
      "id": "KDfSHiUyvBn_",
      "execution_count": null,
      "outputs": []
    }
  ],
  "metadata": {
    "kernelspec": {
      "display_name": "Python 3 (ipykernel)",
      "language": "python",
      "name": "python3"
    },
    "language_info": {
      "codemirror_mode": {
        "name": "ipython",
        "version": 3
      },
      "file_extension": ".py",
      "mimetype": "text/x-python",
      "name": "python",
      "nbconvert_exporter": "python",
      "pygments_lexer": "ipython3",
      "version": "3.9.16"
    },
    "colab": {
      "provenance": []
    }
  },
  "nbformat": 4,
  "nbformat_minor": 5
}